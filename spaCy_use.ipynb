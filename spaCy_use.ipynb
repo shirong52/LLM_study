{
  "nbformat": 4,
  "nbformat_minor": 0,
  "metadata": {
    "colab": {
      "provenance": [],
      "authorship_tag": "ABX9TyP4WPu3c9nJUXiDZOpSj6z9",
      "include_colab_link": true
    },
    "kernelspec": {
      "name": "python3",
      "display_name": "Python 3"
    },
    "language_info": {
      "name": "python"
    }
  },
  "cells": [
    {
      "cell_type": "markdown",
      "metadata": {
        "id": "view-in-github",
        "colab_type": "text"
      },
      "source": [
        "<a href=\"https://colab.research.google.com/github/shirong52/LLM_study/blob/main/spaCy_use.ipynb\" target=\"_parent\"><img src=\"https://colab.research.google.com/assets/colab-badge.svg\" alt=\"Open In Colab\"/></a>"
      ]
    },
    {
      "cell_type": "code",
      "execution_count": 1,
      "metadata": {
        "colab": {
          "base_uri": "https://localhost:8080/"
        },
        "id": "zM2Gad2uF-u2",
        "outputId": "53e806cd-8035-4acc-cbf4-2eceab189286"
      },
      "outputs": [
        {
          "output_type": "stream",
          "name": "stdout",
          "text": [
            "Requirement already satisfied: spacy in /usr/local/lib/python3.11/dist-packages (3.8.7)\n",
            "Requirement already satisfied: spacy-legacy<3.1.0,>=3.0.11 in /usr/local/lib/python3.11/dist-packages (from spacy) (3.0.12)\n",
            "Requirement already satisfied: spacy-loggers<2.0.0,>=1.0.0 in /usr/local/lib/python3.11/dist-packages (from spacy) (1.0.5)\n",
            "Requirement already satisfied: murmurhash<1.1.0,>=0.28.0 in /usr/local/lib/python3.11/dist-packages (from spacy) (1.0.13)\n",
            "Requirement already satisfied: cymem<2.1.0,>=2.0.2 in /usr/local/lib/python3.11/dist-packages (from spacy) (2.0.11)\n",
            "Requirement already satisfied: preshed<3.1.0,>=3.0.2 in /usr/local/lib/python3.11/dist-packages (from spacy) (3.0.10)\n",
            "Requirement already satisfied: thinc<8.4.0,>=8.3.4 in /usr/local/lib/python3.11/dist-packages (from spacy) (8.3.6)\n",
            "Requirement already satisfied: wasabi<1.2.0,>=0.9.1 in /usr/local/lib/python3.11/dist-packages (from spacy) (1.1.3)\n",
            "Requirement already satisfied: srsly<3.0.0,>=2.4.3 in /usr/local/lib/python3.11/dist-packages (from spacy) (2.5.1)\n",
            "Requirement already satisfied: catalogue<2.1.0,>=2.0.6 in /usr/local/lib/python3.11/dist-packages (from spacy) (2.0.10)\n",
            "Requirement already satisfied: weasel<0.5.0,>=0.1.0 in /usr/local/lib/python3.11/dist-packages (from spacy) (0.4.1)\n",
            "Requirement already satisfied: typer<1.0.0,>=0.3.0 in /usr/local/lib/python3.11/dist-packages (from spacy) (0.16.0)\n",
            "Requirement already satisfied: tqdm<5.0.0,>=4.38.0 in /usr/local/lib/python3.11/dist-packages (from spacy) (4.67.1)\n",
            "Requirement already satisfied: numpy>=1.19.0 in /usr/local/lib/python3.11/dist-packages (from spacy) (2.0.2)\n",
            "Requirement already satisfied: requests<3.0.0,>=2.13.0 in /usr/local/lib/python3.11/dist-packages (from spacy) (2.32.3)\n",
            "Requirement already satisfied: pydantic!=1.8,!=1.8.1,<3.0.0,>=1.7.4 in /usr/local/lib/python3.11/dist-packages (from spacy) (2.11.7)\n",
            "Requirement already satisfied: jinja2 in /usr/local/lib/python3.11/dist-packages (from spacy) (3.1.6)\n",
            "Requirement already satisfied: setuptools in /usr/local/lib/python3.11/dist-packages (from spacy) (75.2.0)\n",
            "Requirement already satisfied: packaging>=20.0 in /usr/local/lib/python3.11/dist-packages (from spacy) (24.2)\n",
            "Requirement already satisfied: langcodes<4.0.0,>=3.2.0 in /usr/local/lib/python3.11/dist-packages (from spacy) (3.5.0)\n",
            "Requirement already satisfied: language-data>=1.2 in /usr/local/lib/python3.11/dist-packages (from langcodes<4.0.0,>=3.2.0->spacy) (1.3.0)\n",
            "Requirement already satisfied: annotated-types>=0.6.0 in /usr/local/lib/python3.11/dist-packages (from pydantic!=1.8,!=1.8.1,<3.0.0,>=1.7.4->spacy) (0.7.0)\n",
            "Requirement already satisfied: pydantic-core==2.33.2 in /usr/local/lib/python3.11/dist-packages (from pydantic!=1.8,!=1.8.1,<3.0.0,>=1.7.4->spacy) (2.33.2)\n",
            "Requirement already satisfied: typing-extensions>=4.12.2 in /usr/local/lib/python3.11/dist-packages (from pydantic!=1.8,!=1.8.1,<3.0.0,>=1.7.4->spacy) (4.14.0)\n",
            "Requirement already satisfied: typing-inspection>=0.4.0 in /usr/local/lib/python3.11/dist-packages (from pydantic!=1.8,!=1.8.1,<3.0.0,>=1.7.4->spacy) (0.4.1)\n",
            "Requirement already satisfied: charset-normalizer<4,>=2 in /usr/local/lib/python3.11/dist-packages (from requests<3.0.0,>=2.13.0->spacy) (3.4.2)\n",
            "Requirement already satisfied: idna<4,>=2.5 in /usr/local/lib/python3.11/dist-packages (from requests<3.0.0,>=2.13.0->spacy) (3.10)\n",
            "Requirement already satisfied: urllib3<3,>=1.21.1 in /usr/local/lib/python3.11/dist-packages (from requests<3.0.0,>=2.13.0->spacy) (2.4.0)\n",
            "Requirement already satisfied: certifi>=2017.4.17 in /usr/local/lib/python3.11/dist-packages (from requests<3.0.0,>=2.13.0->spacy) (2025.6.15)\n",
            "Requirement already satisfied: blis<1.4.0,>=1.3.0 in /usr/local/lib/python3.11/dist-packages (from thinc<8.4.0,>=8.3.4->spacy) (1.3.0)\n",
            "Requirement already satisfied: confection<1.0.0,>=0.0.1 in /usr/local/lib/python3.11/dist-packages (from thinc<8.4.0,>=8.3.4->spacy) (0.1.5)\n",
            "Requirement already satisfied: click>=8.0.0 in /usr/local/lib/python3.11/dist-packages (from typer<1.0.0,>=0.3.0->spacy) (8.2.1)\n",
            "Requirement already satisfied: shellingham>=1.3.0 in /usr/local/lib/python3.11/dist-packages (from typer<1.0.0,>=0.3.0->spacy) (1.5.4)\n",
            "Requirement already satisfied: rich>=10.11.0 in /usr/local/lib/python3.11/dist-packages (from typer<1.0.0,>=0.3.0->spacy) (13.9.4)\n",
            "Requirement already satisfied: cloudpathlib<1.0.0,>=0.7.0 in /usr/local/lib/python3.11/dist-packages (from weasel<0.5.0,>=0.1.0->spacy) (0.21.1)\n",
            "Requirement already satisfied: smart-open<8.0.0,>=5.2.1 in /usr/local/lib/python3.11/dist-packages (from weasel<0.5.0,>=0.1.0->spacy) (7.3.0)\n",
            "Requirement already satisfied: MarkupSafe>=2.0 in /usr/local/lib/python3.11/dist-packages (from jinja2->spacy) (3.0.2)\n",
            "Requirement already satisfied: marisa-trie>=1.1.0 in /usr/local/lib/python3.11/dist-packages (from language-data>=1.2->langcodes<4.0.0,>=3.2.0->spacy) (1.2.1)\n",
            "Requirement already satisfied: markdown-it-py>=2.2.0 in /usr/local/lib/python3.11/dist-packages (from rich>=10.11.0->typer<1.0.0,>=0.3.0->spacy) (3.0.0)\n",
            "Requirement already satisfied: pygments<3.0.0,>=2.13.0 in /usr/local/lib/python3.11/dist-packages (from rich>=10.11.0->typer<1.0.0,>=0.3.0->spacy) (2.19.2)\n",
            "Requirement already satisfied: wrapt in /usr/local/lib/python3.11/dist-packages (from smart-open<8.0.0,>=5.2.1->weasel<0.5.0,>=0.1.0->spacy) (1.17.2)\n",
            "Requirement already satisfied: mdurl~=0.1 in /usr/local/lib/python3.11/dist-packages (from markdown-it-py>=2.2.0->rich>=10.11.0->typer<1.0.0,>=0.3.0->spacy) (0.1.2)\n"
          ]
        }
      ],
      "source": [
        "!pip install spacy"
      ]
    },
    {
      "cell_type": "code",
      "source": [
        "!python -m spacy download en_core_web_sm"
      ],
      "metadata": {
        "colab": {
          "base_uri": "https://localhost:8080/"
        },
        "id": "uOLzG5C3GKg9",
        "outputId": "547d48ed-3656-4599-a00b-bfc9b536c751"
      },
      "execution_count": 2,
      "outputs": [
        {
          "output_type": "stream",
          "name": "stdout",
          "text": [
            "Collecting en-core-web-sm==3.8.0\n",
            "  Downloading https://github.com/explosion/spacy-models/releases/download/en_core_web_sm-3.8.0/en_core_web_sm-3.8.0-py3-none-any.whl (12.8 MB)\n",
            "\u001b[2K     \u001b[90m━━━━━━━━━━━━━━━━━━━━━━━━━━━━━━━━━━━━━━━━\u001b[0m \u001b[32m12.8/12.8 MB\u001b[0m \u001b[31m56.6 MB/s\u001b[0m eta \u001b[36m0:00:00\u001b[0m\n",
            "\u001b[?25h\u001b[38;5;2m✔ Download and installation successful\u001b[0m\n",
            "You can now load the package via spacy.load('en_core_web_sm')\n",
            "\u001b[38;5;3m⚠ Restart to reload dependencies\u001b[0m\n",
            "If you are in a Jupyter or Colab notebook, you may need to restart Python in\n",
            "order to load all the package's dependencies. You can do this by selecting the\n",
            "'Restart kernel' or 'Restart runtime' option.\n"
          ]
        }
      ]
    },
    {
      "cell_type": "code",
      "source": [
        "import spacy\n",
        "nlp = spacy.load(\"en_core_web_sm\")"
      ],
      "metadata": {
        "id": "SiBwK2FdGSs8"
      },
      "execution_count": 3,
      "outputs": []
    },
    {
      "cell_type": "code",
      "source": [
        "nlp"
      ],
      "metadata": {
        "colab": {
          "base_uri": "https://localhost:8080/"
        },
        "id": "ebq1JCONGcwa",
        "outputId": "1083f836-799a-4da7-9e2e-fd2d5ac220a4"
      },
      "execution_count": 4,
      "outputs": [
        {
          "output_type": "execute_result",
          "data": {
            "text/plain": [
              "<spacy.lang.en.English at 0x7f0e2fbfe0d0>"
            ]
          },
          "metadata": {},
          "execution_count": 4
        }
      ]
    },
    {
      "cell_type": "markdown",
      "source": [
        "###列表解析"
      ],
      "metadata": {
        "id": "P0R6hdPvSYeG"
      }
    },
    {
      "cell_type": "code",
      "source": [
        "introduction_doc = nlp(\"This tutorial is about Natural Language Processing in Spacy.\")\n",
        "type(introduction_doc)\n",
        "# [token.text for token in introduction_doc]"
      ],
      "metadata": {
        "colab": {
          "base_uri": "https://localhost:8080/"
        },
        "id": "tC76X5_tGi5C",
        "outputId": "1df142a7-fac6-48dc-8e19-c029d27b304f"
      },
      "execution_count": 5,
      "outputs": [
        {
          "output_type": "execute_result",
          "data": {
            "text/plain": [
              "spacy.tokens.doc.Doc"
            ]
          },
          "metadata": {},
          "execution_count": 5
        }
      ]
    },
    {
      "cell_type": "code",
      "source": [
        "[token.text for token in introduction_doc]"
      ],
      "metadata": {
        "colab": {
          "base_uri": "https://localhost:8080/"
        },
        "id": "vPEj4xH-Hf59",
        "outputId": "5a1ffd34-0feb-4c38-fe13-e9ed77475427"
      },
      "execution_count": 6,
      "outputs": [
        {
          "output_type": "execute_result",
          "data": {
            "text/plain": [
              "['This',\n",
              " 'tutorial',\n",
              " 'is',\n",
              " 'about',\n",
              " 'Natural',\n",
              " 'Language',\n",
              " 'Processing',\n",
              " 'in',\n",
              " 'Spacy',\n",
              " '.']"
            ]
          },
          "metadata": {},
          "execution_count": 6
        }
      ]
    },
    {
      "cell_type": "markdown",
      "source": [
        "###句子检测"
      ],
      "metadata": {
        "id": "77PdB4U6SdNY"
      }
    },
    {
      "cell_type": "code",
      "source": [
        "import pathlib\n",
        "file_name = 'introduction.txt'\n",
        "introduction_doc = nlp(pathlib.Path(file_name).read_text(encoding='utf-8'))\n",
        "print([token.text for token in introduction_doc])"
      ],
      "metadata": {
        "colab": {
          "base_uri": "https://localhost:8080/"
        },
        "id": "SOB9h1KPLplm",
        "outputId": "a41d4e4d-01c5-4bc4-b2a1-85b47c38a821"
      },
      "execution_count": 7,
      "outputs": [
        {
          "output_type": "stream",
          "name": "stdout",
          "text": [
            "['This', 'tutorial', 'is', 'about', 'Natural', 'Language', 'Processing', 'in', 'Spacy', '.']\n"
          ]
        }
      ]
    },
    {
      "cell_type": "code",
      "source": [
        "about_text = (\n",
        "    \"Gus Proto is a Python developer currently\"\n",
        "    \" working for a London-based Fintech\"\n",
        "    \" company. He is interested in learning\"\n",
        "    \" Natural Language Processing.\"\n",
        ")\n",
        "about_doc = nlp(about_text)\n",
        "sentences = list(about_doc.sents)\n",
        "len(sentences)"
      ],
      "metadata": {
        "colab": {
          "base_uri": "https://localhost:8080/"
        },
        "id": "Wpr4CFUqMXku",
        "outputId": "87a7495a-88b6-443c-9e8f-4a3edf57ad4f"
      },
      "execution_count": 8,
      "outputs": [
        {
          "output_type": "execute_result",
          "data": {
            "text/plain": [
              "2"
            ]
          },
          "metadata": {},
          "execution_count": 8
        }
      ]
    },
    {
      "cell_type": "code",
      "source": [
        "for sentence in sentences:\n",
        "    print(sentence)"
      ],
      "metadata": {
        "colab": {
          "base_uri": "https://localhost:8080/"
        },
        "id": "56x_i2wdOqrm",
        "outputId": "a483942c-c950-4c49-e884-7c48e0f4a7e4"
      },
      "execution_count": 9,
      "outputs": [
        {
          "output_type": "stream",
          "name": "stdout",
          "text": [
            "Gus Proto is a Python developer currently working for a London-based Fintech company.\n",
            "He is interested in learning Natural Language Processing.\n"
          ]
        }
      ]
    },
    {
      "cell_type": "code",
      "source": [
        "ellipsis_text = (\n",
        "    \"Gus, can you, ... never mind, I forgot\"\n",
        "    \" what I was saying. So, do you think\"\n",
        "    \" we should ...\"\n",
        ")\n",
        "\n",
        "from spacy.language import Language\n",
        "@Language.component(\"set_custom_boundaries\")\n",
        "def set_custom_boundaries(doc):\n",
        "  for token in doc[: -1]:\n",
        "    if token.text == \"...\":  # 将省略号后面的词元标记为句子的开始\n",
        "      doc[token.i + 1].is_sent_start = True\n",
        "  return doc\n",
        "\n",
        "custom_nlp = spacy.load(\"en_core_web_sm\")\n",
        "custom_nlp.add_pipe(\"set_custom_boundaries\", before=\"parser\")  # 将自定义的管道组件“set_custom_boundaries”添加到 SpaCy 的处理管道中，并且指定它在“parser”组件之前运行\n",
        "custom_ellipsis_doc = custom_nlp(ellipsis_text)  # 将自定义的文本 ellipsis_text 传递给 SpaCy 模型进行处理\n",
        "custom_ellipsis_sentences = list(custom_ellipsis_doc.sents)  # 获取文档中的句子迭代器。由于 SpaCy 的 Doc 对象的 sents 属性是一个生成器，所以需要用 list() 将其转换为列表，方便后续操作\n",
        "\n",
        "for sentence in custom_ellipsis_sentences:\n",
        "  print(sentence)"
      ],
      "metadata": {
        "colab": {
          "base_uri": "https://localhost:8080/"
        },
        "id": "jW4viYUJPE_B",
        "outputId": "82335be7-6c29-4b80-da1f-78924fa47e73"
      },
      "execution_count": 10,
      "outputs": [
        {
          "output_type": "stream",
          "name": "stdout",
          "text": [
            "Gus, can you, ...\n",
            "never mind, I forgot what I was saying.\n",
            "So, do you think we should ...\n"
          ]
        }
      ]
    },
    {
      "cell_type": "markdown",
      "source": [
        "###tokens"
      ],
      "metadata": {
        "id": "D4tJ2j-H2vQC"
      }
    },
    {
      "cell_type": "code",
      "source": [
        "import spacy\n",
        "nlp = spacy.load(\"en_core_web_sm\")\n",
        "about_text = (\n",
        "    \"Gus Proto is a Python developer currently\"\n",
        "    \" working for a London-based Fintech\"\n",
        "    \" company. He is interested in learning\"\n",
        "    \" Natural Language Processing.\"\n",
        ")\n",
        "\n",
        "about_doc = nlp(about_text)\n",
        "for token in about_doc:\n",
        "  # Proto 是第二个单词，它在文本中的起始索引位置是 4（因为 Gus 占用了 4 个字符，包括空格）\n",
        "  print(token, token.idx)  # token.idx 是该单词或标点符号在原始文本中的起始索引位置\n"
      ],
      "metadata": {
        "colab": {
          "base_uri": "https://localhost:8080/"
        },
        "id": "IK5tBIj-aYRX",
        "outputId": "0359f9e1-0ccb-40ad-ef26-b6045810224e"
      },
      "execution_count": 11,
      "outputs": [
        {
          "output_type": "stream",
          "name": "stdout",
          "text": [
            "Gus 0\n",
            "Proto 4\n",
            "is 10\n",
            "a 13\n",
            "Python 15\n",
            "developer 22\n",
            "currently 32\n",
            "working 42\n",
            "for 50\n",
            "a 54\n",
            "London 56\n",
            "- 62\n",
            "based 63\n",
            "Fintech 69\n",
            "company 77\n",
            ". 84\n",
            "He 86\n",
            "is 89\n",
            "interested 92\n",
            "in 103\n",
            "learning 106\n",
            "Natural 115\n",
            "Language 123\n",
            "Processing 132\n",
            ". 142\n"
          ]
        }
      ]
    },
    {
      "cell_type": "code",
      "source": [
        "print(\n",
        "    f\"{'Text with Whitespace':22}\"\n",
        "    f\"{'Is Alphanumeric?':15}\"\n",
        "    f\"{'Is Punctuation?':18}\"\n",
        "    f\"{'Is Stop Word?'}\"\n",
        ")\n",
        "\n",
        "for token in about_doc:\n",
        "  print(\n",
        "      f\"{str(token.text_with_ws):22}\"\n",
        "      f\"{str(token.is_alpha):15}\"\n",
        "      f\"{str(token.is_punct):18}\"\n",
        "      f\"{str(token.is_stop)}\"\n",
        "  )"
      ],
      "metadata": {
        "colab": {
          "base_uri": "https://localhost:8080/"
        },
        "id": "FjEDhoI53I6x",
        "outputId": "68c3f7ac-98d9-400f-89fc-50aae6b5a93b"
      },
      "execution_count": 12,
      "outputs": [
        {
          "output_type": "stream",
          "name": "stdout",
          "text": [
            "Text with Whitespace  Is Alphanumeric?Is Punctuation?   Is Stop Word?\n",
            "Gus                   True           False             False\n",
            "Proto                 True           False             False\n",
            "is                    True           False             True\n",
            "a                     True           False             True\n",
            "Python                True           False             False\n",
            "developer             True           False             False\n",
            "currently             True           False             False\n",
            "working               True           False             False\n",
            "for                   True           False             True\n",
            "a                     True           False             True\n",
            "London                True           False             False\n",
            "-                     False          True              False\n",
            "based                 True           False             False\n",
            "Fintech               True           False             False\n",
            "company               True           False             False\n",
            ".                     False          True              False\n",
            "He                    True           False             True\n",
            "is                    True           False             True\n",
            "interested            True           False             False\n",
            "in                    True           False             True\n",
            "learning              True           False             False\n",
            "Natural               True           False             False\n",
            "Language              True           False             False\n",
            "Processing            True           False             False\n",
            ".                     False          True              False\n"
          ]
        }
      ]
    },
    {
      "cell_type": "code",
      "source": [
        "custom_about_text = (\n",
        "    \"Gus Proto is a Python developer currently\"\n",
        "    \" working for a London@based Fintech\"\n",
        "    \" company. He is interested in learning\"\n",
        "    \" Natural Language Processing.\"\n",
        ")\n",
        "print([token.text for token in nlp(custom_about_text)[8:15]])"
      ],
      "metadata": {
        "colab": {
          "base_uri": "https://localhost:8080/"
        },
        "id": "AdrMV_fNDTvs",
        "outputId": "c725d68e-9165-4c64-ae66-c2074921cfb7"
      },
      "execution_count": 13,
      "outputs": [
        {
          "output_type": "stream",
          "name": "stdout",
          "text": [
            "['for', 'a', 'London@based', 'Fintech', 'company', '.', 'He']\n"
          ]
        }
      ]
    },
    {
      "cell_type": "code",
      "source": [
        "import re\n",
        "from spacy.tokenizer import Tokenizer\n",
        "\n",
        "custom_nlp = spacy.load(\"en_core_web_sm\")\n",
        "prefix_re = spacy.util.compile_prefix_regex(\n",
        "    custom_nlp.Defaults.prefixes\n",
        ")\n",
        "suffix_re = spacy.util.compile_suffix_regex(\n",
        "    custom_nlp.Defaults.suffixes\n",
        ")\n",
        "# 定义了一个自定义的中缀列表 custom_infixes，其中包含了一个正则表达式 r\"@\"，表示 @ 符号可以作为单词的中缀\n",
        "custom_infixes = [r\"@\"]\n",
        "\n",
        "# 使用 + 将自定义的中缀规则 custom_infixes 添加到默认的中缀规则列表中\n",
        "infix_re = spacy.util.compile_infix_regex(\n",
        "    list(custom_nlp.Defaults.infixes) + custom_infixes\n",
        ")\n",
        "\n",
        "custom_nlp.tokenizer = Tokenizer(\n",
        "    nlp.vocab,\n",
        "    prefix_search=prefix_re.search,\n",
        "    suffix_search=suffix_re.search,\n",
        "    infix_finditer=infix_re.finditer,\n",
        "    token_match=None,\n",
        ")\n",
        "custom_tokenizer_about_doc = custom_nlp(custom_about_text)\n",
        "print([token.text for token in custom_tokenizer_about_doc[8:15]])"
      ],
      "metadata": {
        "id": "ZbvlojWBGwsO",
        "colab": {
          "base_uri": "https://localhost:8080/"
        },
        "outputId": "5995794e-e5e6-4d16-d7a8-3ac7372cb036"
      },
      "execution_count": 14,
      "outputs": [
        {
          "output_type": "stream",
          "name": "stdout",
          "text": [
            "['for', 'a', 'London', '@', 'based', 'Fintech', 'company']\n"
          ]
        }
      ]
    },
    {
      "cell_type": "markdown",
      "source": [
        "###stop words"
      ],
      "metadata": {
        "id": "gUpPRaYGfq5c"
      }
    },
    {
      "cell_type": "code",
      "source": [
        "import spacy\n",
        "spacy_stopwords = spacy.lang.en.stop_words.STOP_WORDS\n",
        "len(spacy_stopwords)"
      ],
      "metadata": {
        "id": "nQwV9gnCVRZO",
        "colab": {
          "base_uri": "https://localhost:8080/"
        },
        "outputId": "82f08689-e564-4cf4-95fd-f1947a3a3d76"
      },
      "execution_count": 15,
      "outputs": [
        {
          "output_type": "execute_result",
          "data": {
            "text/plain": [
              "326"
            ]
          },
          "metadata": {},
          "execution_count": 15
        }
      ]
    },
    {
      "cell_type": "code",
      "source": [
        "for stop_word in list(spacy_stopwords)[:10]:\n",
        "  print(stop_word)"
      ],
      "metadata": {
        "colab": {
          "base_uri": "https://localhost:8080/"
        },
        "id": "yer5xhWdgIG1",
        "outputId": "1f2af0e8-bf04-40e0-9eb9-8e14bd5134bb"
      },
      "execution_count": 16,
      "outputs": [
        {
          "output_type": "stream",
          "name": "stdout",
          "text": [
            "used\n",
            "well\n",
            "go\n",
            "us\n",
            "whereby\n",
            "whereafter\n",
            "another\n",
            "‘ll\n",
            "whence\n",
            "become\n"
          ]
        }
      ]
    },
    {
      "cell_type": "code",
      "source": [
        "custom_about_text = (\n",
        "    \"Gus Proto is a Python developer currently\"\n",
        "    \" working for a London@based Fintech\"\n",
        "    \" company. He is interested in learning\"\n",
        "    \" Natural Language Processing.\"\n",
        ")\n",
        "\n",
        "nlp = spacy.load(\"en_core_web_sm\")\n",
        "about_doc = nlp(custom_about_text)\n",
        "print([token for token in about_doc if not token.is_stop])"
      ],
      "metadata": {
        "colab": {
          "base_uri": "https://localhost:8080/"
        },
        "id": "Egt2lSD4gSvT",
        "outputId": "ea293374-7261-4e58-c403-09843d1b572b"
      },
      "execution_count": 17,
      "outputs": [
        {
          "output_type": "stream",
          "name": "stdout",
          "text": [
            "[Gus, Proto, Python, developer, currently, working, London@based, Fintech, company, ., interested, learning, Natural, Language, Processing, .]\n"
          ]
        }
      ]
    },
    {
      "cell_type": "markdown",
      "source": [
        "###词形还原"
      ],
      "metadata": {
        "id": "BhKZzNq1hAOE"
      }
    },
    {
      "cell_type": "code",
      "source": [
        "import spacy\n",
        "nlp = spacy.load(\"en_core_web_sm\")\n",
        "conference_help_text = (\n",
        "    \"Gus is helping organize a developer\"\n",
        "    \" conference on Applications of Natural Language\"\n",
        "    \" Processing. He keeps organizing local Python meetups\"\n",
        "    \" and several internal talks at his workplace.\"\n",
        ")\n",
        "\n",
        "conference_help_doc = nlp(conference_help_text)\n",
        "for token in conference_help_doc:\n",
        "  if str(token) != str(token.lemma_):\n",
        "    print(f\"{str(token):>20} : {str(token.lemma_)}\")"
      ],
      "metadata": {
        "colab": {
          "base_uri": "https://localhost:8080/"
        },
        "id": "ZLkLBJ1Jg0dy",
        "outputId": "d2109e9c-00c6-4efb-e74b-351ac5431a71"
      },
      "execution_count": 18,
      "outputs": [
        {
          "output_type": "stream",
          "name": "stdout",
          "text": [
            "                  is : be\n",
            "          Processing : processing\n",
            "                  He : he\n",
            "               keeps : keep\n",
            "          organizing : organize\n",
            "             meetups : meetup\n",
            "               talks : talk\n"
          ]
        }
      ]
    },
    {
      "cell_type": "markdown",
      "source": [
        "###词频"
      ],
      "metadata": {
        "id": "gggsra4AinFm"
      }
    },
    {
      "cell_type": "code",
      "source": [
        "import spacy\n",
        "from collections import Counter\n",
        "\n",
        "nlp = spacy.load(\"en_core_web_sm\")\n",
        "complete_text = (\n",
        "    \"Gus Proto is a Python developer currently\"\n",
        "    \" working for a London-based Fintech company. He is\"\n",
        "    \" interested in learning Natural Language Processing.\"\n",
        "    \" There is a developer conference happening on 21 July\"\n",
        "   ' 2019 in London. It is titled \"Applications of Natural'\n",
        "    ' Language Processing\". There is a helpline number'\n",
        "    \" available at +44-1234567891. Gus is helping organize it.\"\n",
        "    \" He keeps organizing local Python meetups and several\"\n",
        "    \" internal talks at his workplace. Gus is also presenting\"\n",
        "    ' a talk. The talk will introduce the reader about \"Use'\n",
        "    ' cases of Natural Language Processing in Fintech\".'\n",
        "    \" Apart from his work, he is very passionate about music.\"\n",
        "    \" Gus is learning to play the Piano. He has enrolled\"\n",
        "    \" himself in the weekend batch of Great Piano Academy.\"\n",
        "    \" Great Piano Academy is situated in Mayfair or the City\"\n",
        "    \" of London and has world-class piano instructors.\"\n",
        ")\n",
        "\n",
        "complete_doc = nlp(complete_text)\n",
        "words = [\n",
        "    token.text\n",
        "    for token in complete_doc\n",
        "    if not token.is_stop and not token.is_punct\n",
        "]\n",
        "\n",
        "print(Counter(words).most_common(5))"
      ],
      "metadata": {
        "colab": {
          "base_uri": "https://localhost:8080/"
        },
        "id": "yusct1IGh6cH",
        "outputId": "d38a38bd-ac3f-4c3b-9347-d742a3c32a64"
      },
      "execution_count": 19,
      "outputs": [
        {
          "output_type": "stream",
          "name": "stdout",
          "text": [
            "[('Gus', 4), ('London', 3), ('Natural', 3), ('Language', 3), ('Processing', 3)]\n"
          ]
        }
      ]
    },
    {
      "cell_type": "markdown",
      "source": [
        "###词性标注"
      ],
      "metadata": {
        "id": "GgX_0hZjkrQ-"
      }
    },
    {
      "cell_type": "code",
      "source": [
        "import spacy\n",
        "nlp = spacy.load(\"en_core_web_sm\")\n",
        "about_text = (\n",
        "    \"Gus Proto is a Python developer currently\"\n",
        "    \" working for a London-based Fintech\"\n",
        "    \" company. He is interested in learning\"\n",
        "    \" Natural Language Processing.\"\n",
        ")\n",
        "\n",
        "about_doc = nlp(about_text)\n",
        "\n",
        "for token in about_doc:\n",
        "  print(\n",
        "      f\"\"\"\n",
        "      TOKEN: {str(token)}\n",
        "      =====\n",
        "      TAG: {str(token.tag_):10} POS: {token.pos_}\n",
        "      EXPLANATION: {spacy.explain(token.tag_)}\"\"\"\n",
        "  )"
      ],
      "metadata": {
        "colab": {
          "base_uri": "https://localhost:8080/"
        },
        "id": "Gl6Dj5yNkOlB",
        "outputId": "a7dd8ad3-5b15-4ade-afa8-d86d5b78b8d7"
      },
      "execution_count": 20,
      "outputs": [
        {
          "output_type": "stream",
          "name": "stdout",
          "text": [
            "\n",
            "      TOKEN: Gus\n",
            "      =====\n",
            "      TAG: NNP        POS: PROPN\n",
            "      EXPLANATION: noun, proper singular\n",
            "\n",
            "      TOKEN: Proto\n",
            "      =====\n",
            "      TAG: NNP        POS: PROPN\n",
            "      EXPLANATION: noun, proper singular\n",
            "\n",
            "      TOKEN: is\n",
            "      =====\n",
            "      TAG: VBZ        POS: AUX\n",
            "      EXPLANATION: verb, 3rd person singular present\n",
            "\n",
            "      TOKEN: a\n",
            "      =====\n",
            "      TAG: DT         POS: DET\n",
            "      EXPLANATION: determiner\n",
            "\n",
            "      TOKEN: Python\n",
            "      =====\n",
            "      TAG: NNP        POS: PROPN\n",
            "      EXPLANATION: noun, proper singular\n",
            "\n",
            "      TOKEN: developer\n",
            "      =====\n",
            "      TAG: NN         POS: NOUN\n",
            "      EXPLANATION: noun, singular or mass\n",
            "\n",
            "      TOKEN: currently\n",
            "      =====\n",
            "      TAG: RB         POS: ADV\n",
            "      EXPLANATION: adverb\n",
            "\n",
            "      TOKEN: working\n",
            "      =====\n",
            "      TAG: VBG        POS: VERB\n",
            "      EXPLANATION: verb, gerund or present participle\n",
            "\n",
            "      TOKEN: for\n",
            "      =====\n",
            "      TAG: IN         POS: ADP\n",
            "      EXPLANATION: conjunction, subordinating or preposition\n",
            "\n",
            "      TOKEN: a\n",
            "      =====\n",
            "      TAG: DT         POS: DET\n",
            "      EXPLANATION: determiner\n",
            "\n",
            "      TOKEN: London\n",
            "      =====\n",
            "      TAG: NNP        POS: PROPN\n",
            "      EXPLANATION: noun, proper singular\n",
            "\n",
            "      TOKEN: -\n",
            "      =====\n",
            "      TAG: HYPH       POS: PUNCT\n",
            "      EXPLANATION: punctuation mark, hyphen\n",
            "\n",
            "      TOKEN: based\n",
            "      =====\n",
            "      TAG: VBN        POS: VERB\n",
            "      EXPLANATION: verb, past participle\n",
            "\n",
            "      TOKEN: Fintech\n",
            "      =====\n",
            "      TAG: NNP        POS: PROPN\n",
            "      EXPLANATION: noun, proper singular\n",
            "\n",
            "      TOKEN: company\n",
            "      =====\n",
            "      TAG: NN         POS: NOUN\n",
            "      EXPLANATION: noun, singular or mass\n",
            "\n",
            "      TOKEN: .\n",
            "      =====\n",
            "      TAG: .          POS: PUNCT\n",
            "      EXPLANATION: punctuation mark, sentence closer\n",
            "\n",
            "      TOKEN: He\n",
            "      =====\n",
            "      TAG: PRP        POS: PRON\n",
            "      EXPLANATION: pronoun, personal\n",
            "\n",
            "      TOKEN: is\n",
            "      =====\n",
            "      TAG: VBZ        POS: AUX\n",
            "      EXPLANATION: verb, 3rd person singular present\n",
            "\n",
            "      TOKEN: interested\n",
            "      =====\n",
            "      TAG: JJ         POS: ADJ\n",
            "      EXPLANATION: adjective (English), other noun-modifier (Chinese)\n",
            "\n",
            "      TOKEN: in\n",
            "      =====\n",
            "      TAG: IN         POS: ADP\n",
            "      EXPLANATION: conjunction, subordinating or preposition\n",
            "\n",
            "      TOKEN: learning\n",
            "      =====\n",
            "      TAG: VBG        POS: VERB\n",
            "      EXPLANATION: verb, gerund or present participle\n",
            "\n",
            "      TOKEN: Natural\n",
            "      =====\n",
            "      TAG: NNP        POS: PROPN\n",
            "      EXPLANATION: noun, proper singular\n",
            "\n",
            "      TOKEN: Language\n",
            "      =====\n",
            "      TAG: NNP        POS: PROPN\n",
            "      EXPLANATION: noun, proper singular\n",
            "\n",
            "      TOKEN: Processing\n",
            "      =====\n",
            "      TAG: NNP        POS: PROPN\n",
            "      EXPLANATION: noun, proper singular\n",
            "\n",
            "      TOKEN: .\n",
            "      =====\n",
            "      TAG: .          POS: PUNCT\n",
            "      EXPLANATION: punctuation mark, sentence closer\n"
          ]
        }
      ]
    },
    {
      "cell_type": "code",
      "source": [
        "nouns = []\n",
        "adjectives = []\n",
        "for token in about_doc:\n",
        "  if token.pos_ == \"NOUN\":\n",
        "    nouns.append(token)\n",
        "  if token.pos_ == \"ADJ\":\n",
        "    adjectives.append(token)\n",
        "\n",
        "nouns"
      ],
      "metadata": {
        "colab": {
          "base_uri": "https://localhost:8080/"
        },
        "id": "k3vjHLSvlh-Q",
        "outputId": "f8a8aca2-f578-47a6-b982-939b9c67f6f8"
      },
      "execution_count": 21,
      "outputs": [
        {
          "output_type": "execute_result",
          "data": {
            "text/plain": [
              "[developer, company]"
            ]
          },
          "metadata": {},
          "execution_count": 21
        }
      ]
    },
    {
      "cell_type": "code",
      "source": [
        "adjectives"
      ],
      "metadata": {
        "colab": {
          "base_uri": "https://localhost:8080/"
        },
        "id": "hCFBIyCcmp6l",
        "outputId": "5e7ebecd-3f5f-4777-f6c7-02221ac2879d"
      },
      "execution_count": 22,
      "outputs": [
        {
          "output_type": "execute_result",
          "data": {
            "text/plain": [
              "[interested]"
            ]
          },
          "metadata": {},
          "execution_count": 22
        }
      ]
    },
    {
      "cell_type": "markdown",
      "source": [
        "###可视化"
      ],
      "metadata": {
        "id": "0fLl_3X_m7Ao"
      }
    },
    {
      "cell_type": "code",
      "source": [
        "import spacy\n",
        "from spacy import displacy\n",
        "\n",
        "nlp = spacy.load(\"en_core_web_sm\")\n",
        "\n",
        "about_interest_text = (\n",
        "    \"He is interested in learning Natural Language Processing.\"\n",
        ")\n",
        "about_interest_doc = nlp(about_interest_text)\n",
        "displacy.serve(about_interest_doc, style=\"dep\")"
      ],
      "metadata": {
        "colab": {
          "base_uri": "https://localhost:8080/",
          "height": 584
        },
        "id": "4cWtwaVHm08X",
        "outputId": "1d53fb44-dd1d-4023-a99b-5ec9fc753767"
      },
      "execution_count": 23,
      "outputs": [
        {
          "output_type": "stream",
          "name": "stderr",
          "text": [
            "/usr/local/lib/python3.11/dist-packages/spacy/displacy/__init__.py:106: UserWarning: [W011] It looks like you're calling displacy.serve from within a Jupyter notebook or a similar environment. This likely means you're already running a local web server, so there's no need to make displaCy start another one. Instead, you should be able to replace displacy.serve with displacy.render to show the visualization.\n",
            "  warnings.warn(Warnings.W011)\n"
          ]
        },
        {
          "output_type": "display_data",
          "data": {
            "text/plain": [
              "<IPython.core.display.HTML object>"
            ],
            "text/html": [
              "<span class=\"tex2jax_ignore\"><!DOCTYPE html>\n",
              "<html lang=\"en\">\n",
              "    <head>\n",
              "        <title>displaCy</title>\n",
              "    </head>\n",
              "\n",
              "    <body style=\"font-size: 16px; font-family: -apple-system, BlinkMacSystemFont, 'Segoe UI', Helvetica, Arial, sans-serif, 'Apple Color Emoji', 'Segoe UI Emoji', 'Segoe UI Symbol'; padding: 4rem 2rem; direction: ltr\">\n",
              "<figure style=\"margin-bottom: 6rem\">\n",
              "<svg xmlns=\"http://www.w3.org/2000/svg\" xmlns:xlink=\"http://www.w3.org/1999/xlink\" xml:lang=\"en\" id=\"cd16e8592e7448de919292e5cd94b257-0\" class=\"displacy\" width=\"1450\" height=\"312.0\" direction=\"ltr\" style=\"max-width: none; height: 312.0px; color: #000000; background: #ffffff; font-family: Arial; direction: ltr\">\n",
              "<text class=\"displacy-token\" fill=\"currentColor\" text-anchor=\"middle\" y=\"222.0\">\n",
              "    <tspan class=\"displacy-word\" fill=\"currentColor\" x=\"50\">He</tspan>\n",
              "    <tspan class=\"displacy-tag\" dy=\"2em\" fill=\"currentColor\" x=\"50\">PRON</tspan>\n",
              "</text>\n",
              "\n",
              "<text class=\"displacy-token\" fill=\"currentColor\" text-anchor=\"middle\" y=\"222.0\">\n",
              "    <tspan class=\"displacy-word\" fill=\"currentColor\" x=\"225\">is</tspan>\n",
              "    <tspan class=\"displacy-tag\" dy=\"2em\" fill=\"currentColor\" x=\"225\">AUX</tspan>\n",
              "</text>\n",
              "\n",
              "<text class=\"displacy-token\" fill=\"currentColor\" text-anchor=\"middle\" y=\"222.0\">\n",
              "    <tspan class=\"displacy-word\" fill=\"currentColor\" x=\"400\">interested</tspan>\n",
              "    <tspan class=\"displacy-tag\" dy=\"2em\" fill=\"currentColor\" x=\"400\">ADJ</tspan>\n",
              "</text>\n",
              "\n",
              "<text class=\"displacy-token\" fill=\"currentColor\" text-anchor=\"middle\" y=\"222.0\">\n",
              "    <tspan class=\"displacy-word\" fill=\"currentColor\" x=\"575\">in</tspan>\n",
              "    <tspan class=\"displacy-tag\" dy=\"2em\" fill=\"currentColor\" x=\"575\">ADP</tspan>\n",
              "</text>\n",
              "\n",
              "<text class=\"displacy-token\" fill=\"currentColor\" text-anchor=\"middle\" y=\"222.0\">\n",
              "    <tspan class=\"displacy-word\" fill=\"currentColor\" x=\"750\">learning</tspan>\n",
              "    <tspan class=\"displacy-tag\" dy=\"2em\" fill=\"currentColor\" x=\"750\">VERB</tspan>\n",
              "</text>\n",
              "\n",
              "<text class=\"displacy-token\" fill=\"currentColor\" text-anchor=\"middle\" y=\"222.0\">\n",
              "    <tspan class=\"displacy-word\" fill=\"currentColor\" x=\"925\">Natural</tspan>\n",
              "    <tspan class=\"displacy-tag\" dy=\"2em\" fill=\"currentColor\" x=\"925\">PROPN</tspan>\n",
              "</text>\n",
              "\n",
              "<text class=\"displacy-token\" fill=\"currentColor\" text-anchor=\"middle\" y=\"222.0\">\n",
              "    <tspan class=\"displacy-word\" fill=\"currentColor\" x=\"1100\">Language</tspan>\n",
              "    <tspan class=\"displacy-tag\" dy=\"2em\" fill=\"currentColor\" x=\"1100\">PROPN</tspan>\n",
              "</text>\n",
              "\n",
              "<text class=\"displacy-token\" fill=\"currentColor\" text-anchor=\"middle\" y=\"222.0\">\n",
              "    <tspan class=\"displacy-word\" fill=\"currentColor\" x=\"1275\">Processing.</tspan>\n",
              "    <tspan class=\"displacy-tag\" dy=\"2em\" fill=\"currentColor\" x=\"1275\">PROPN</tspan>\n",
              "</text>\n",
              "\n",
              "<g class=\"displacy-arrow\">\n",
              "    <path class=\"displacy-arc\" id=\"arrow-cd16e8592e7448de919292e5cd94b257-0-0\" stroke-width=\"2px\" d=\"M70,177.0 C70,89.5 220.0,89.5 220.0,177.0\" fill=\"none\" stroke=\"currentColor\"/>\n",
              "    <text dy=\"1.25em\" style=\"font-size: 0.8em; letter-spacing: 1px\">\n",
              "        <textPath xlink:href=\"#arrow-cd16e8592e7448de919292e5cd94b257-0-0\" class=\"displacy-label\" startOffset=\"50%\" side=\"left\" fill=\"currentColor\" text-anchor=\"middle\">nsubj</textPath>\n",
              "    </text>\n",
              "    <path class=\"displacy-arrowhead\" d=\"M70,179.0 L62,167.0 78,167.0\" fill=\"currentColor\"/>\n",
              "</g>\n",
              "\n",
              "<g class=\"displacy-arrow\">\n",
              "    <path class=\"displacy-arc\" id=\"arrow-cd16e8592e7448de919292e5cd94b257-0-1\" stroke-width=\"2px\" d=\"M245,177.0 C245,89.5 395.0,89.5 395.0,177.0\" fill=\"none\" stroke=\"currentColor\"/>\n",
              "    <text dy=\"1.25em\" style=\"font-size: 0.8em; letter-spacing: 1px\">\n",
              "        <textPath xlink:href=\"#arrow-cd16e8592e7448de919292e5cd94b257-0-1\" class=\"displacy-label\" startOffset=\"50%\" side=\"left\" fill=\"currentColor\" text-anchor=\"middle\">acomp</textPath>\n",
              "    </text>\n",
              "    <path class=\"displacy-arrowhead\" d=\"M395.0,179.0 L403.0,167.0 387.0,167.0\" fill=\"currentColor\"/>\n",
              "</g>\n",
              "\n",
              "<g class=\"displacy-arrow\">\n",
              "    <path class=\"displacy-arc\" id=\"arrow-cd16e8592e7448de919292e5cd94b257-0-2\" stroke-width=\"2px\" d=\"M420,177.0 C420,89.5 570.0,89.5 570.0,177.0\" fill=\"none\" stroke=\"currentColor\"/>\n",
              "    <text dy=\"1.25em\" style=\"font-size: 0.8em; letter-spacing: 1px\">\n",
              "        <textPath xlink:href=\"#arrow-cd16e8592e7448de919292e5cd94b257-0-2\" class=\"displacy-label\" startOffset=\"50%\" side=\"left\" fill=\"currentColor\" text-anchor=\"middle\">prep</textPath>\n",
              "    </text>\n",
              "    <path class=\"displacy-arrowhead\" d=\"M570.0,179.0 L578.0,167.0 562.0,167.0\" fill=\"currentColor\"/>\n",
              "</g>\n",
              "\n",
              "<g class=\"displacy-arrow\">\n",
              "    <path class=\"displacy-arc\" id=\"arrow-cd16e8592e7448de919292e5cd94b257-0-3\" stroke-width=\"2px\" d=\"M595,177.0 C595,89.5 745.0,89.5 745.0,177.0\" fill=\"none\" stroke=\"currentColor\"/>\n",
              "    <text dy=\"1.25em\" style=\"font-size: 0.8em; letter-spacing: 1px\">\n",
              "        <textPath xlink:href=\"#arrow-cd16e8592e7448de919292e5cd94b257-0-3\" class=\"displacy-label\" startOffset=\"50%\" side=\"left\" fill=\"currentColor\" text-anchor=\"middle\">pcomp</textPath>\n",
              "    </text>\n",
              "    <path class=\"displacy-arrowhead\" d=\"M745.0,179.0 L753.0,167.0 737.0,167.0\" fill=\"currentColor\"/>\n",
              "</g>\n",
              "\n",
              "<g class=\"displacy-arrow\">\n",
              "    <path class=\"displacy-arc\" id=\"arrow-cd16e8592e7448de919292e5cd94b257-0-4\" stroke-width=\"2px\" d=\"M945,177.0 C945,89.5 1095.0,89.5 1095.0,177.0\" fill=\"none\" stroke=\"currentColor\"/>\n",
              "    <text dy=\"1.25em\" style=\"font-size: 0.8em; letter-spacing: 1px\">\n",
              "        <textPath xlink:href=\"#arrow-cd16e8592e7448de919292e5cd94b257-0-4\" class=\"displacy-label\" startOffset=\"50%\" side=\"left\" fill=\"currentColor\" text-anchor=\"middle\">compound</textPath>\n",
              "    </text>\n",
              "    <path class=\"displacy-arrowhead\" d=\"M945,179.0 L937,167.0 953,167.0\" fill=\"currentColor\"/>\n",
              "</g>\n",
              "\n",
              "<g class=\"displacy-arrow\">\n",
              "    <path class=\"displacy-arc\" id=\"arrow-cd16e8592e7448de919292e5cd94b257-0-5\" stroke-width=\"2px\" d=\"M1120,177.0 C1120,89.5 1270.0,89.5 1270.0,177.0\" fill=\"none\" stroke=\"currentColor\"/>\n",
              "    <text dy=\"1.25em\" style=\"font-size: 0.8em; letter-spacing: 1px\">\n",
              "        <textPath xlink:href=\"#arrow-cd16e8592e7448de919292e5cd94b257-0-5\" class=\"displacy-label\" startOffset=\"50%\" side=\"left\" fill=\"currentColor\" text-anchor=\"middle\">compound</textPath>\n",
              "    </text>\n",
              "    <path class=\"displacy-arrowhead\" d=\"M1120,179.0 L1112,167.0 1128,167.0\" fill=\"currentColor\"/>\n",
              "</g>\n",
              "\n",
              "<g class=\"displacy-arrow\">\n",
              "    <path class=\"displacy-arc\" id=\"arrow-cd16e8592e7448de919292e5cd94b257-0-6\" stroke-width=\"2px\" d=\"M770,177.0 C770,2.0 1275.0,2.0 1275.0,177.0\" fill=\"none\" stroke=\"currentColor\"/>\n",
              "    <text dy=\"1.25em\" style=\"font-size: 0.8em; letter-spacing: 1px\">\n",
              "        <textPath xlink:href=\"#arrow-cd16e8592e7448de919292e5cd94b257-0-6\" class=\"displacy-label\" startOffset=\"50%\" side=\"left\" fill=\"currentColor\" text-anchor=\"middle\">dobj</textPath>\n",
              "    </text>\n",
              "    <path class=\"displacy-arrowhead\" d=\"M1275.0,179.0 L1283.0,167.0 1267.0,167.0\" fill=\"currentColor\"/>\n",
              "</g>\n",
              "</svg>\n",
              "</figure>\n",
              "</body>\n",
              "</html></span>"
            ]
          },
          "metadata": {}
        },
        {
          "output_type": "stream",
          "name": "stdout",
          "text": [
            "\n",
            "Using the 'dep' visualizer\n",
            "Serving on http://0.0.0.0:5000 ...\n",
            "\n",
            "Shutting down server on port 5000.\n"
          ]
        }
      ]
    },
    {
      "cell_type": "code",
      "source": [
        "displacy.render(about_interest_doc, style=\"dep\", jupyter=True)"
      ],
      "metadata": {
        "colab": {
          "base_uri": "https://localhost:8080/",
          "height": 353
        },
        "id": "zOd8QNTiolOG",
        "outputId": "f09069ca-9adf-44cf-f29e-979d231dc45b"
      },
      "execution_count": 25,
      "outputs": [
        {
          "output_type": "display_data",
          "data": {
            "text/plain": [
              "<IPython.core.display.HTML object>"
            ],
            "text/html": [
              "<span class=\"tex2jax_ignore\"><svg xmlns=\"http://www.w3.org/2000/svg\" xmlns:xlink=\"http://www.w3.org/1999/xlink\" xml:lang=\"en\" id=\"2e34c16bd6484332a6fcd0c3986ceed3-0\" class=\"displacy\" width=\"1450\" height=\"312.0\" direction=\"ltr\" style=\"max-width: none; height: 312.0px; color: #000000; background: #ffffff; font-family: Arial; direction: ltr\">\n",
              "<text class=\"displacy-token\" fill=\"currentColor\" text-anchor=\"middle\" y=\"222.0\">\n",
              "    <tspan class=\"displacy-word\" fill=\"currentColor\" x=\"50\">He</tspan>\n",
              "    <tspan class=\"displacy-tag\" dy=\"2em\" fill=\"currentColor\" x=\"50\">PRON</tspan>\n",
              "</text>\n",
              "\n",
              "<text class=\"displacy-token\" fill=\"currentColor\" text-anchor=\"middle\" y=\"222.0\">\n",
              "    <tspan class=\"displacy-word\" fill=\"currentColor\" x=\"225\">is</tspan>\n",
              "    <tspan class=\"displacy-tag\" dy=\"2em\" fill=\"currentColor\" x=\"225\">AUX</tspan>\n",
              "</text>\n",
              "\n",
              "<text class=\"displacy-token\" fill=\"currentColor\" text-anchor=\"middle\" y=\"222.0\">\n",
              "    <tspan class=\"displacy-word\" fill=\"currentColor\" x=\"400\">interested</tspan>\n",
              "    <tspan class=\"displacy-tag\" dy=\"2em\" fill=\"currentColor\" x=\"400\">ADJ</tspan>\n",
              "</text>\n",
              "\n",
              "<text class=\"displacy-token\" fill=\"currentColor\" text-anchor=\"middle\" y=\"222.0\">\n",
              "    <tspan class=\"displacy-word\" fill=\"currentColor\" x=\"575\">in</tspan>\n",
              "    <tspan class=\"displacy-tag\" dy=\"2em\" fill=\"currentColor\" x=\"575\">ADP</tspan>\n",
              "</text>\n",
              "\n",
              "<text class=\"displacy-token\" fill=\"currentColor\" text-anchor=\"middle\" y=\"222.0\">\n",
              "    <tspan class=\"displacy-word\" fill=\"currentColor\" x=\"750\">learning</tspan>\n",
              "    <tspan class=\"displacy-tag\" dy=\"2em\" fill=\"currentColor\" x=\"750\">VERB</tspan>\n",
              "</text>\n",
              "\n",
              "<text class=\"displacy-token\" fill=\"currentColor\" text-anchor=\"middle\" y=\"222.0\">\n",
              "    <tspan class=\"displacy-word\" fill=\"currentColor\" x=\"925\">Natural</tspan>\n",
              "    <tspan class=\"displacy-tag\" dy=\"2em\" fill=\"currentColor\" x=\"925\">PROPN</tspan>\n",
              "</text>\n",
              "\n",
              "<text class=\"displacy-token\" fill=\"currentColor\" text-anchor=\"middle\" y=\"222.0\">\n",
              "    <tspan class=\"displacy-word\" fill=\"currentColor\" x=\"1100\">Language</tspan>\n",
              "    <tspan class=\"displacy-tag\" dy=\"2em\" fill=\"currentColor\" x=\"1100\">PROPN</tspan>\n",
              "</text>\n",
              "\n",
              "<text class=\"displacy-token\" fill=\"currentColor\" text-anchor=\"middle\" y=\"222.0\">\n",
              "    <tspan class=\"displacy-word\" fill=\"currentColor\" x=\"1275\">Processing.</tspan>\n",
              "    <tspan class=\"displacy-tag\" dy=\"2em\" fill=\"currentColor\" x=\"1275\">PROPN</tspan>\n",
              "</text>\n",
              "\n",
              "<g class=\"displacy-arrow\">\n",
              "    <path class=\"displacy-arc\" id=\"arrow-2e34c16bd6484332a6fcd0c3986ceed3-0-0\" stroke-width=\"2px\" d=\"M70,177.0 C70,89.5 220.0,89.5 220.0,177.0\" fill=\"none\" stroke=\"currentColor\"/>\n",
              "    <text dy=\"1.25em\" style=\"font-size: 0.8em; letter-spacing: 1px\">\n",
              "        <textPath xlink:href=\"#arrow-2e34c16bd6484332a6fcd0c3986ceed3-0-0\" class=\"displacy-label\" startOffset=\"50%\" side=\"left\" fill=\"currentColor\" text-anchor=\"middle\">nsubj</textPath>\n",
              "    </text>\n",
              "    <path class=\"displacy-arrowhead\" d=\"M70,179.0 L62,167.0 78,167.0\" fill=\"currentColor\"/>\n",
              "</g>\n",
              "\n",
              "<g class=\"displacy-arrow\">\n",
              "    <path class=\"displacy-arc\" id=\"arrow-2e34c16bd6484332a6fcd0c3986ceed3-0-1\" stroke-width=\"2px\" d=\"M245,177.0 C245,89.5 395.0,89.5 395.0,177.0\" fill=\"none\" stroke=\"currentColor\"/>\n",
              "    <text dy=\"1.25em\" style=\"font-size: 0.8em; letter-spacing: 1px\">\n",
              "        <textPath xlink:href=\"#arrow-2e34c16bd6484332a6fcd0c3986ceed3-0-1\" class=\"displacy-label\" startOffset=\"50%\" side=\"left\" fill=\"currentColor\" text-anchor=\"middle\">acomp</textPath>\n",
              "    </text>\n",
              "    <path class=\"displacy-arrowhead\" d=\"M395.0,179.0 L403.0,167.0 387.0,167.0\" fill=\"currentColor\"/>\n",
              "</g>\n",
              "\n",
              "<g class=\"displacy-arrow\">\n",
              "    <path class=\"displacy-arc\" id=\"arrow-2e34c16bd6484332a6fcd0c3986ceed3-0-2\" stroke-width=\"2px\" d=\"M420,177.0 C420,89.5 570.0,89.5 570.0,177.0\" fill=\"none\" stroke=\"currentColor\"/>\n",
              "    <text dy=\"1.25em\" style=\"font-size: 0.8em; letter-spacing: 1px\">\n",
              "        <textPath xlink:href=\"#arrow-2e34c16bd6484332a6fcd0c3986ceed3-0-2\" class=\"displacy-label\" startOffset=\"50%\" side=\"left\" fill=\"currentColor\" text-anchor=\"middle\">prep</textPath>\n",
              "    </text>\n",
              "    <path class=\"displacy-arrowhead\" d=\"M570.0,179.0 L578.0,167.0 562.0,167.0\" fill=\"currentColor\"/>\n",
              "</g>\n",
              "\n",
              "<g class=\"displacy-arrow\">\n",
              "    <path class=\"displacy-arc\" id=\"arrow-2e34c16bd6484332a6fcd0c3986ceed3-0-3\" stroke-width=\"2px\" d=\"M595,177.0 C595,89.5 745.0,89.5 745.0,177.0\" fill=\"none\" stroke=\"currentColor\"/>\n",
              "    <text dy=\"1.25em\" style=\"font-size: 0.8em; letter-spacing: 1px\">\n",
              "        <textPath xlink:href=\"#arrow-2e34c16bd6484332a6fcd0c3986ceed3-0-3\" class=\"displacy-label\" startOffset=\"50%\" side=\"left\" fill=\"currentColor\" text-anchor=\"middle\">pcomp</textPath>\n",
              "    </text>\n",
              "    <path class=\"displacy-arrowhead\" d=\"M745.0,179.0 L753.0,167.0 737.0,167.0\" fill=\"currentColor\"/>\n",
              "</g>\n",
              "\n",
              "<g class=\"displacy-arrow\">\n",
              "    <path class=\"displacy-arc\" id=\"arrow-2e34c16bd6484332a6fcd0c3986ceed3-0-4\" stroke-width=\"2px\" d=\"M945,177.0 C945,89.5 1095.0,89.5 1095.0,177.0\" fill=\"none\" stroke=\"currentColor\"/>\n",
              "    <text dy=\"1.25em\" style=\"font-size: 0.8em; letter-spacing: 1px\">\n",
              "        <textPath xlink:href=\"#arrow-2e34c16bd6484332a6fcd0c3986ceed3-0-4\" class=\"displacy-label\" startOffset=\"50%\" side=\"left\" fill=\"currentColor\" text-anchor=\"middle\">compound</textPath>\n",
              "    </text>\n",
              "    <path class=\"displacy-arrowhead\" d=\"M945,179.0 L937,167.0 953,167.0\" fill=\"currentColor\"/>\n",
              "</g>\n",
              "\n",
              "<g class=\"displacy-arrow\">\n",
              "    <path class=\"displacy-arc\" id=\"arrow-2e34c16bd6484332a6fcd0c3986ceed3-0-5\" stroke-width=\"2px\" d=\"M1120,177.0 C1120,89.5 1270.0,89.5 1270.0,177.0\" fill=\"none\" stroke=\"currentColor\"/>\n",
              "    <text dy=\"1.25em\" style=\"font-size: 0.8em; letter-spacing: 1px\">\n",
              "        <textPath xlink:href=\"#arrow-2e34c16bd6484332a6fcd0c3986ceed3-0-5\" class=\"displacy-label\" startOffset=\"50%\" side=\"left\" fill=\"currentColor\" text-anchor=\"middle\">compound</textPath>\n",
              "    </text>\n",
              "    <path class=\"displacy-arrowhead\" d=\"M1120,179.0 L1112,167.0 1128,167.0\" fill=\"currentColor\"/>\n",
              "</g>\n",
              "\n",
              "<g class=\"displacy-arrow\">\n",
              "    <path class=\"displacy-arc\" id=\"arrow-2e34c16bd6484332a6fcd0c3986ceed3-0-6\" stroke-width=\"2px\" d=\"M770,177.0 C770,2.0 1275.0,2.0 1275.0,177.0\" fill=\"none\" stroke=\"currentColor\"/>\n",
              "    <text dy=\"1.25em\" style=\"font-size: 0.8em; letter-spacing: 1px\">\n",
              "        <textPath xlink:href=\"#arrow-2e34c16bd6484332a6fcd0c3986ceed3-0-6\" class=\"displacy-label\" startOffset=\"50%\" side=\"left\" fill=\"currentColor\" text-anchor=\"middle\">dobj</textPath>\n",
              "    </text>\n",
              "    <path class=\"displacy-arrowhead\" d=\"M1275.0,179.0 L1283.0,167.0 1267.0,167.0\" fill=\"currentColor\"/>\n",
              "</g>\n",
              "</svg></span>"
            ]
          },
          "metadata": {}
        }
      ]
    },
    {
      "cell_type": "markdown",
      "source": [
        "###预处理功能"
      ],
      "metadata": {
        "id": "NGxBUk2LpFaV"
      }
    },
    {
      "cell_type": "code",
      "source": [
        "import spacy\n",
        "nlp = spacy.load(\"en_core_web_sm\")\n",
        "complete_text = (\n",
        "    \"Gus Proto is a Python developer currently\"\n",
        "    \" working for a London-based Fintech company. He is\"\n",
        "    \" interested in learning Natural Language Processing.\"\n",
        "    \" There is a developer conference happening on 21 July\"\n",
        "    ' 2019 in London. It is titled \"Applications of Natural'\n",
        "    ' Language Processing\". There is a helpline number'\n",
        "    \" available at +44-1234567891. Gus is helping organize it.\"\n",
        "    \" He keeps organizing local Python meetups and several\"\n",
        "    \" internal talks at his workplace. Gus is also presenting\"\n",
        "    ' a talk. The talk will introduce the reader about \"Use'\n",
        "    ' cases of Natural Language Processing in Fintech\".'\n",
        "    \" Apart from his work, he is very passionate about music.\"\n",
        "    \" Gus is learning to play the Piano. He has enrolled\"\n",
        "    \" himself in the weekend batch of Great Piano Academy.\"\n",
        "    \" Great Piano Academy is situated in Mayfair or the City\"\n",
        "    \" of London and has world-class piano instructors.\"\n",
        ")\n",
        "complete_doc = nlp(complete_text)\n",
        "\n",
        "def is_token_allowed(token):\n",
        "  return bool(\n",
        "      token\n",
        "      and str(token).strip()\n",
        "      and not token.is_stop\n",
        "      and not token.is_punct\n",
        "  )\n",
        "\n",
        "def preprocess_token(token):\n",
        "  return token.lemma_.strip().lower()\n",
        "\n",
        "complete_filtered_tokens = [\n",
        "    preprocess_token(token)\n",
        "    for token in complete_doc\n",
        "    if is_token_allowed(token)\n",
        "]\n",
        "\n",
        "complete_filtered_tokens"
      ],
      "metadata": {
        "colab": {
          "base_uri": "https://localhost:8080/"
        },
        "id": "Qr4d86-2o5S8",
        "outputId": "adec35e3-66a8-4448-c848-9e00043db836"
      },
      "execution_count": 26,
      "outputs": [
        {
          "output_type": "execute_result",
          "data": {
            "text/plain": [
              "['gus',\n",
              " 'proto',\n",
              " 'python',\n",
              " 'developer',\n",
              " 'currently',\n",
              " 'work',\n",
              " 'london',\n",
              " 'base',\n",
              " 'fintech',\n",
              " 'company',\n",
              " 'interested',\n",
              " 'learn',\n",
              " 'natural',\n",
              " 'language',\n",
              " 'processing',\n",
              " 'developer',\n",
              " 'conference',\n",
              " 'happen',\n",
              " '21',\n",
              " 'july',\n",
              " '2019',\n",
              " 'london',\n",
              " 'title',\n",
              " 'application',\n",
              " 'natural',\n",
              " 'language',\n",
              " 'processing',\n",
              " 'helpline',\n",
              " 'number',\n",
              " 'available',\n",
              " '+44',\n",
              " '1234567891',\n",
              " 'gus',\n",
              " 'helping',\n",
              " 'organize',\n",
              " 'keep',\n",
              " 'organize',\n",
              " 'local',\n",
              " 'python',\n",
              " 'meetup',\n",
              " 'internal',\n",
              " 'talk',\n",
              " 'workplace',\n",
              " 'gus',\n",
              " 'present',\n",
              " 'talk',\n",
              " 'talk',\n",
              " 'introduce',\n",
              " 'reader',\n",
              " 'use',\n",
              " 'case',\n",
              " 'natural',\n",
              " 'language',\n",
              " 'processing',\n",
              " 'fintech',\n",
              " 'apart',\n",
              " 'work',\n",
              " 'passionate',\n",
              " 'music',\n",
              " 'gus',\n",
              " 'learn',\n",
              " 'play',\n",
              " 'piano',\n",
              " 'enrol',\n",
              " 'weekend',\n",
              " 'batch',\n",
              " 'great',\n",
              " 'piano',\n",
              " 'academy',\n",
              " 'great',\n",
              " 'piano',\n",
              " 'academy',\n",
              " 'situate',\n",
              " 'mayfair',\n",
              " 'city',\n",
              " 'london',\n",
              " 'world',\n",
              " 'class',\n",
              " 'piano',\n",
              " 'instructor']"
            ]
          },
          "metadata": {},
          "execution_count": 26
        }
      ]
    },
    {
      "cell_type": "markdown",
      "source": [
        "###基于规则的匹配"
      ],
      "metadata": {
        "id": "3QiKNOabqYU3"
      }
    },
    {
      "cell_type": "code",
      "source": [
        "import spacy\n",
        "nlp = spacy.load(\"en_core_web_sm\")\n",
        "about_text = (\n",
        "    \"Gus Proto is a Python developer currently\"\n",
        "    \" working for a London-based Fintech\"\n",
        "    \" company. He is interested in learning\"\n",
        "    \" Natural Language Processing.\"\n",
        ")\n",
        "\n",
        "about_doc = nlp(about_text)\n",
        "\n",
        "# Matcher 是 SpaCy 提供的一个工具，用于在文档中匹配特定的模式\n",
        "from spacy.matcher import Matcher\n",
        "matcher = Matcher(nlp.vocab)\n",
        "\n",
        "def extract_full_name(nlp_doc):\n",
        "  pattern = [{\"POS\": \"PROPN\"}, {\"POS\": \"PROPN\"}]\n",
        "  # 将定义的模式添加到 Matcher 对象中。\n",
        "  # \"FULL_NAME\" 是模式的名称，[pattern] 是一个包含模式的列表\n",
        "  matcher.add(\"FULL_NAME\", [pattern])\n",
        "  # matches 是一个包含匹配结果的列表，每个匹配结果是一个元组，包含匹配的 ID、起始索引和结束索引。\n",
        "  matches = matcher(nlp_doc)\n",
        "  for _, start, end in matches:\n",
        "    span = nlp_doc[start:end]\n",
        "    yield span.text\n",
        "\n",
        "next(extract_full_name(about_doc))"
      ],
      "metadata": {
        "id": "sgAx5UOnqRkH",
        "colab": {
          "base_uri": "https://localhost:8080/",
          "height": 35
        },
        "outputId": "7e549404-659c-4af8-d151-1c8c1674362b"
      },
      "execution_count": 28,
      "outputs": [
        {
          "output_type": "execute_result",
          "data": {
            "text/plain": [
              "'Gus Proto'"
            ],
            "application/vnd.google.colaboratory.intrinsic+json": {
              "type": "string"
            }
          },
          "metadata": {},
          "execution_count": 28
        }
      ]
    },
    {
      "cell_type": "code",
      "source": [
        "conference_org_text = (\"There is a developer conference\"\n",
        "    \" happening on 21 July 2019 in London. It is titled\"\n",
        "    ' \"Applications of Natural Language Processing\".'\n",
        "    \" There is a helpline number available\"\n",
        "    \" at (123) 456-7891\")\n",
        "\n",
        "matcher = Matcher(nlp.vocab) # 这个代码在这里要再运行一次，否则结果不对，还是上面的matcher\n",
        "\n",
        "def extract_phone_number(nlp_doc):\n",
        "    pattern = [\n",
        "        {\"ORTH\": \"(\"},\n",
        "        {\"SHAPE\": \"ddd\"},\n",
        "        {\"ORTH\": \")\"},\n",
        "        {\"SHAPE\": \"ddd\"},\n",
        "        {\"ORTH\": \"-\", \"OP\": \"?\"},\n",
        "        {\"SHAPE\": \"dddd\"},\n",
        "    ]\n",
        "    matcher.add(\"PHONE_NUMBER\",[pattern])\n",
        "    matches = matcher(nlp_doc)\n",
        "    for match_id, start, end in matches:\n",
        "        span = nlp_doc[start:end]\n",
        "        return span.text\n",
        "\n",
        "conference_org_doc = nlp(conference_org_text)\n",
        "extract_phone_number(conference_org_doc)"
      ],
      "metadata": {
        "colab": {
          "base_uri": "https://localhost:8080/",
          "height": 35
        },
        "id": "rOS_OjycarBp",
        "outputId": "124d919d-39e7-49e6-92ad-74399e7e988b"
      },
      "execution_count": 40,
      "outputs": [
        {
          "output_type": "execute_result",
          "data": {
            "text/plain": [
              "'(123) 456-7891'"
            ],
            "application/vnd.google.colaboratory.intrinsic+json": {
              "type": "string"
            }
          },
          "metadata": {},
          "execution_count": 40
        }
      ]
    },
    {
      "cell_type": "markdown",
      "source": [
        "###依赖分析"
      ],
      "metadata": {
        "id": "WuX4P6Z6gRdk"
      }
    },
    {
      "cell_type": "code",
      "source": [
        "import spacy\n",
        "nlp = spacy.load(\"en_core_web_sm\")\n",
        "piano_text = \"Gus is learning piano\"\n",
        "piano_doc = nlp(piano_text)\n",
        "\n",
        "for token in piano_doc:\n",
        "  # \"\"\"表示这是一个多行字符串的开始\n",
        "  # token.tag_是一个属性，表示单词的词性标注\n",
        "  # token.head.text表示当前单词所依赖的单词的文本内容\n",
        "  # token.dep_是一个属性，表示单词的依存关系类型\n",
        "  print(\n",
        "      f\"\"\"\n",
        "      TOKEN: {token.text}\n",
        "      =====\n",
        "      {token.tag_ = }\n",
        "      {token.head.text = }\n",
        "      {token.dep_ = }\"\"\"\n",
        "  )"
      ],
      "metadata": {
        "colab": {
          "base_uri": "https://localhost:8080/"
        },
        "id": "OiayKs_xcU4X",
        "outputId": "7dd592e1-3c6c-4a97-e9e8-f7a628fc1972"
      },
      "execution_count": 41,
      "outputs": [
        {
          "output_type": "stream",
          "name": "stdout",
          "text": [
            "\n",
            "      TOKEN: Gus\n",
            "      =====\n",
            "      token.tag_ = 'NNP'\n",
            "      token.head.text = 'learning'\n",
            "      token.dep_ = 'nsubj'\n",
            "\n",
            "      TOKEN: is\n",
            "      =====\n",
            "      token.tag_ = 'VBZ'\n",
            "      token.head.text = 'learning'\n",
            "      token.dep_ = 'aux'\n",
            "\n",
            "      TOKEN: learning\n",
            "      =====\n",
            "      token.tag_ = 'VBG'\n",
            "      token.head.text = 'learning'\n",
            "      token.dep_ = 'ROOT'\n",
            "\n",
            "      TOKEN: piano\n",
            "      =====\n",
            "      token.tag_ = 'NN'\n",
            "      token.head.text = 'learning'\n",
            "      token.dep_ = 'dobj'\n"
          ]
        }
      ]
    },
    {
      "cell_type": "code",
      "source": [
        "displacy.serve(piano_doc, style=\"dep\")"
      ],
      "metadata": {
        "colab": {
          "base_uri": "https://localhost:8080/",
          "height": 584
        },
        "id": "sgtJcGAghzKB",
        "outputId": "53e68d5e-8661-4e4f-8915-85f246d29eef"
      },
      "execution_count": 42,
      "outputs": [
        {
          "output_type": "stream",
          "name": "stderr",
          "text": [
            "/usr/local/lib/python3.11/dist-packages/spacy/displacy/__init__.py:106: UserWarning: [W011] It looks like you're calling displacy.serve from within a Jupyter notebook or a similar environment. This likely means you're already running a local web server, so there's no need to make displaCy start another one. Instead, you should be able to replace displacy.serve with displacy.render to show the visualization.\n",
            "  warnings.warn(Warnings.W011)\n"
          ]
        },
        {
          "output_type": "display_data",
          "data": {
            "text/plain": [
              "<IPython.core.display.HTML object>"
            ],
            "text/html": [
              "<span class=\"tex2jax_ignore\"><!DOCTYPE html>\n",
              "<html lang=\"en\">\n",
              "    <head>\n",
              "        <title>displaCy</title>\n",
              "    </head>\n",
              "\n",
              "    <body style=\"font-size: 16px; font-family: -apple-system, BlinkMacSystemFont, 'Segoe UI', Helvetica, Arial, sans-serif, 'Apple Color Emoji', 'Segoe UI Emoji', 'Segoe UI Symbol'; padding: 4rem 2rem; direction: ltr\">\n",
              "<figure style=\"margin-bottom: 6rem\">\n",
              "<svg xmlns=\"http://www.w3.org/2000/svg\" xmlns:xlink=\"http://www.w3.org/1999/xlink\" xml:lang=\"en\" id=\"0d92409a823f409686c6634e1f28b167-0\" class=\"displacy\" width=\"750\" height=\"312.0\" direction=\"ltr\" style=\"max-width: none; height: 312.0px; color: #000000; background: #ffffff; font-family: Arial; direction: ltr\">\n",
              "<text class=\"displacy-token\" fill=\"currentColor\" text-anchor=\"middle\" y=\"222.0\">\n",
              "    <tspan class=\"displacy-word\" fill=\"currentColor\" x=\"50\">Gus</tspan>\n",
              "    <tspan class=\"displacy-tag\" dy=\"2em\" fill=\"currentColor\" x=\"50\">PROPN</tspan>\n",
              "</text>\n",
              "\n",
              "<text class=\"displacy-token\" fill=\"currentColor\" text-anchor=\"middle\" y=\"222.0\">\n",
              "    <tspan class=\"displacy-word\" fill=\"currentColor\" x=\"225\">is</tspan>\n",
              "    <tspan class=\"displacy-tag\" dy=\"2em\" fill=\"currentColor\" x=\"225\">AUX</tspan>\n",
              "</text>\n",
              "\n",
              "<text class=\"displacy-token\" fill=\"currentColor\" text-anchor=\"middle\" y=\"222.0\">\n",
              "    <tspan class=\"displacy-word\" fill=\"currentColor\" x=\"400\">learning</tspan>\n",
              "    <tspan class=\"displacy-tag\" dy=\"2em\" fill=\"currentColor\" x=\"400\">VERB</tspan>\n",
              "</text>\n",
              "\n",
              "<text class=\"displacy-token\" fill=\"currentColor\" text-anchor=\"middle\" y=\"222.0\">\n",
              "    <tspan class=\"displacy-word\" fill=\"currentColor\" x=\"575\">piano</tspan>\n",
              "    <tspan class=\"displacy-tag\" dy=\"2em\" fill=\"currentColor\" x=\"575\">NOUN</tspan>\n",
              "</text>\n",
              "\n",
              "<g class=\"displacy-arrow\">\n",
              "    <path class=\"displacy-arc\" id=\"arrow-0d92409a823f409686c6634e1f28b167-0-0\" stroke-width=\"2px\" d=\"M70,177.0 C70,2.0 400.0,2.0 400.0,177.0\" fill=\"none\" stroke=\"currentColor\"/>\n",
              "    <text dy=\"1.25em\" style=\"font-size: 0.8em; letter-spacing: 1px\">\n",
              "        <textPath xlink:href=\"#arrow-0d92409a823f409686c6634e1f28b167-0-0\" class=\"displacy-label\" startOffset=\"50%\" side=\"left\" fill=\"currentColor\" text-anchor=\"middle\">nsubj</textPath>\n",
              "    </text>\n",
              "    <path class=\"displacy-arrowhead\" d=\"M70,179.0 L62,167.0 78,167.0\" fill=\"currentColor\"/>\n",
              "</g>\n",
              "\n",
              "<g class=\"displacy-arrow\">\n",
              "    <path class=\"displacy-arc\" id=\"arrow-0d92409a823f409686c6634e1f28b167-0-1\" stroke-width=\"2px\" d=\"M245,177.0 C245,89.5 395.0,89.5 395.0,177.0\" fill=\"none\" stroke=\"currentColor\"/>\n",
              "    <text dy=\"1.25em\" style=\"font-size: 0.8em; letter-spacing: 1px\">\n",
              "        <textPath xlink:href=\"#arrow-0d92409a823f409686c6634e1f28b167-0-1\" class=\"displacy-label\" startOffset=\"50%\" side=\"left\" fill=\"currentColor\" text-anchor=\"middle\">aux</textPath>\n",
              "    </text>\n",
              "    <path class=\"displacy-arrowhead\" d=\"M245,179.0 L237,167.0 253,167.0\" fill=\"currentColor\"/>\n",
              "</g>\n",
              "\n",
              "<g class=\"displacy-arrow\">\n",
              "    <path class=\"displacy-arc\" id=\"arrow-0d92409a823f409686c6634e1f28b167-0-2\" stroke-width=\"2px\" d=\"M420,177.0 C420,89.5 570.0,89.5 570.0,177.0\" fill=\"none\" stroke=\"currentColor\"/>\n",
              "    <text dy=\"1.25em\" style=\"font-size: 0.8em; letter-spacing: 1px\">\n",
              "        <textPath xlink:href=\"#arrow-0d92409a823f409686c6634e1f28b167-0-2\" class=\"displacy-label\" startOffset=\"50%\" side=\"left\" fill=\"currentColor\" text-anchor=\"middle\">dobj</textPath>\n",
              "    </text>\n",
              "    <path class=\"displacy-arrowhead\" d=\"M570.0,179.0 L578.0,167.0 562.0,167.0\" fill=\"currentColor\"/>\n",
              "</g>\n",
              "</svg>\n",
              "</figure>\n",
              "</body>\n",
              "</html></span>"
            ]
          },
          "metadata": {}
        },
        {
          "output_type": "stream",
          "name": "stdout",
          "text": [
            "\n",
            "Using the 'dep' visualizer\n",
            "Serving on http://0.0.0.0:5000 ...\n",
            "\n",
            "Shutting down server on port 5000.\n"
          ]
        }
      ]
    },
    {
      "cell_type": "markdown",
      "source": [
        "###树和子树导航"
      ],
      "metadata": {
        "id": "Pw4MRoupiypC"
      }
    },
    {
      "cell_type": "code",
      "source": [
        "import spacy\n",
        "nlp = spacy.load(\"en_core_web_sm\")\n",
        "one_line_about_text = (\n",
        "    \"Gus Proto is a Python developer\"\n",
        "    \" currently working for a London-based Fintech company\"\n",
        ")\n",
        "one_line_about_doc = nlp(one_line_about_text)\n",
        "\n",
        "# Extract children of `developer`\n",
        "print([token.text for token in one_line_about_doc[5].children])\n",
        "\n",
        "# Extract next neighboring node of `developer`\n",
        "print (one_line_about_doc[5].nbor())\n",
        "\n",
        "# Extract previous neighboring node of `developer`\n",
        "print (one_line_about_doc[5].nbor(-1))\n",
        "\n",
        "# Extract all tokens on the left of `developer`\n",
        "print([token.text for token in one_line_about_doc[5].lefts])\n",
        "\n",
        "# Extract tokens on the right of `developer`\n",
        "print([token.text for token in one_line_about_doc[5].rights])\n",
        "\n",
        "# Print subtree of `developer`\n",
        "print (list(one_line_about_doc[5].subtree))"
      ],
      "metadata": {
        "colab": {
          "base_uri": "https://localhost:8080/"
        },
        "id": "RhjxMLEbijC-",
        "outputId": "62624704-d4bd-4ad5-ca6a-dd6df2d23ff7"
      },
      "execution_count": 44,
      "outputs": [
        {
          "output_type": "stream",
          "name": "stdout",
          "text": [
            "['a', 'Python', 'working']\n",
            "currently\n",
            "Python\n",
            "['a', 'Python']\n",
            "['working']\n",
            "[a, Python, developer, currently, working, for, a, London, -, based, Fintech, company]\n"
          ]
        }
      ]
    },
    {
      "cell_type": "markdown",
      "source": [
        "###浅层句法分析"
      ],
      "metadata": {
        "id": "3j-EatUil3T6"
      }
    },
    {
      "cell_type": "markdown",
      "source": [
        "####名词短语检测"
      ],
      "metadata": {
        "id": "GXqzGOlcmJUq"
      }
    },
    {
      "cell_type": "code",
      "source": [
        "import spacy\n",
        "nlp = spacy.load(\"en_core_web_sm\")\n",
        "\n",
        "conference_text = (\n",
        "    \"There is a developer conference happening on 21 July 2019 in London.\"\n",
        ")\n",
        "\n",
        "conference_doc = nlp(conference_text)\n",
        "\n",
        "for chunk in conference_doc.noun_chunks:\n",
        "  print(chunk)"
      ],
      "metadata": {
        "colab": {
          "base_uri": "https://localhost:8080/"
        },
        "id": "PkSJEQvujqp9",
        "outputId": "958fc80e-ce15-465f-95ac-9ee979d7f7fb"
      },
      "execution_count": 45,
      "outputs": [
        {
          "output_type": "stream",
          "name": "stdout",
          "text": [
            "a developer conference\n",
            "21 July\n",
            "London\n"
          ]
        }
      ]
    },
    {
      "cell_type": "markdown",
      "source": [
        "####动词短语检测"
      ],
      "metadata": {
        "id": "yI3mZGmwnmcO"
      }
    },
    {
      "cell_type": "code",
      "source": [
        "!pip install textacy"
      ],
      "metadata": {
        "colab": {
          "base_uri": "https://localhost:8080/"
        },
        "id": "-w2ECUmuniJn",
        "outputId": "577f06b9-9523-4024-846d-93269303b26c"
      },
      "execution_count": 46,
      "outputs": [
        {
          "output_type": "stream",
          "name": "stdout",
          "text": [
            "Collecting textacy\n",
            "  Downloading textacy-0.13.0-py3-none-any.whl.metadata (5.3 kB)\n",
            "Requirement already satisfied: cachetools>=4.0.0 in /usr/local/lib/python3.11/dist-packages (from textacy) (5.5.2)\n",
            "Requirement already satisfied: catalogue~=2.0 in /usr/local/lib/python3.11/dist-packages (from textacy) (2.0.10)\n",
            "Collecting cytoolz>=0.10.1 (from textacy)\n",
            "  Downloading cytoolz-1.0.1-cp311-cp311-manylinux_2_17_x86_64.manylinux2014_x86_64.whl.metadata (4.6 kB)\n",
            "Collecting floret~=0.10.0 (from textacy)\n",
            "  Downloading floret-0.10.5-cp311-cp311-manylinux_2_17_x86_64.manylinux2014_x86_64.whl.metadata (3.1 kB)\n",
            "Collecting jellyfish>=0.8.0 (from textacy)\n",
            "  Downloading jellyfish-1.2.0-cp311-cp311-manylinux_2_17_x86_64.manylinux2014_x86_64.whl.metadata (2.6 kB)\n",
            "Requirement already satisfied: joblib>=0.13.0 in /usr/local/lib/python3.11/dist-packages (from textacy) (1.5.1)\n",
            "Requirement already satisfied: networkx>=2.7 in /usr/local/lib/python3.11/dist-packages (from textacy) (3.5)\n",
            "Requirement already satisfied: numpy>=1.17.0 in /usr/local/lib/python3.11/dist-packages (from textacy) (2.0.2)\n",
            "Collecting pyphen>=0.10.0 (from textacy)\n",
            "  Downloading pyphen-0.17.2-py3-none-any.whl.metadata (3.2 kB)\n",
            "Requirement already satisfied: requests>=2.10.0 in /usr/local/lib/python3.11/dist-packages (from textacy) (2.32.3)\n",
            "Requirement already satisfied: scipy>=1.8.0 in /usr/local/lib/python3.11/dist-packages (from textacy) (1.15.3)\n",
            "Requirement already satisfied: scikit-learn>=1.0 in /usr/local/lib/python3.11/dist-packages (from textacy) (1.6.1)\n",
            "Requirement already satisfied: spacy~=3.0 in /usr/local/lib/python3.11/dist-packages (from textacy) (3.8.7)\n",
            "Requirement already satisfied: tqdm>=4.19.6 in /usr/local/lib/python3.11/dist-packages (from textacy) (4.67.1)\n",
            "Requirement already satisfied: toolz>=0.8.0 in /usr/local/lib/python3.11/dist-packages (from cytoolz>=0.10.1->textacy) (0.12.1)\n",
            "Requirement already satisfied: charset-normalizer<4,>=2 in /usr/local/lib/python3.11/dist-packages (from requests>=2.10.0->textacy) (3.4.2)\n",
            "Requirement already satisfied: idna<4,>=2.5 in /usr/local/lib/python3.11/dist-packages (from requests>=2.10.0->textacy) (3.10)\n",
            "Requirement already satisfied: urllib3<3,>=1.21.1 in /usr/local/lib/python3.11/dist-packages (from requests>=2.10.0->textacy) (2.4.0)\n",
            "Requirement already satisfied: certifi>=2017.4.17 in /usr/local/lib/python3.11/dist-packages (from requests>=2.10.0->textacy) (2025.6.15)\n",
            "Requirement already satisfied: threadpoolctl>=3.1.0 in /usr/local/lib/python3.11/dist-packages (from scikit-learn>=1.0->textacy) (3.6.0)\n",
            "Requirement already satisfied: spacy-legacy<3.1.0,>=3.0.11 in /usr/local/lib/python3.11/dist-packages (from spacy~=3.0->textacy) (3.0.12)\n",
            "Requirement already satisfied: spacy-loggers<2.0.0,>=1.0.0 in /usr/local/lib/python3.11/dist-packages (from spacy~=3.0->textacy) (1.0.5)\n",
            "Requirement already satisfied: murmurhash<1.1.0,>=0.28.0 in /usr/local/lib/python3.11/dist-packages (from spacy~=3.0->textacy) (1.0.13)\n",
            "Requirement already satisfied: cymem<2.1.0,>=2.0.2 in /usr/local/lib/python3.11/dist-packages (from spacy~=3.0->textacy) (2.0.11)\n",
            "Requirement already satisfied: preshed<3.1.0,>=3.0.2 in /usr/local/lib/python3.11/dist-packages (from spacy~=3.0->textacy) (3.0.10)\n",
            "Requirement already satisfied: thinc<8.4.0,>=8.3.4 in /usr/local/lib/python3.11/dist-packages (from spacy~=3.0->textacy) (8.3.6)\n",
            "Requirement already satisfied: wasabi<1.2.0,>=0.9.1 in /usr/local/lib/python3.11/dist-packages (from spacy~=3.0->textacy) (1.1.3)\n",
            "Requirement already satisfied: srsly<3.0.0,>=2.4.3 in /usr/local/lib/python3.11/dist-packages (from spacy~=3.0->textacy) (2.5.1)\n",
            "Requirement already satisfied: weasel<0.5.0,>=0.1.0 in /usr/local/lib/python3.11/dist-packages (from spacy~=3.0->textacy) (0.4.1)\n",
            "Requirement already satisfied: typer<1.0.0,>=0.3.0 in /usr/local/lib/python3.11/dist-packages (from spacy~=3.0->textacy) (0.16.0)\n",
            "Requirement already satisfied: pydantic!=1.8,!=1.8.1,<3.0.0,>=1.7.4 in /usr/local/lib/python3.11/dist-packages (from spacy~=3.0->textacy) (2.11.7)\n",
            "Requirement already satisfied: jinja2 in /usr/local/lib/python3.11/dist-packages (from spacy~=3.0->textacy) (3.1.6)\n",
            "Requirement already satisfied: setuptools in /usr/local/lib/python3.11/dist-packages (from spacy~=3.0->textacy) (75.2.0)\n",
            "Requirement already satisfied: packaging>=20.0 in /usr/local/lib/python3.11/dist-packages (from spacy~=3.0->textacy) (24.2)\n",
            "Requirement already satisfied: langcodes<4.0.0,>=3.2.0 in /usr/local/lib/python3.11/dist-packages (from spacy~=3.0->textacy) (3.5.0)\n",
            "Requirement already satisfied: language-data>=1.2 in /usr/local/lib/python3.11/dist-packages (from langcodes<4.0.0,>=3.2.0->spacy~=3.0->textacy) (1.3.0)\n",
            "Requirement already satisfied: annotated-types>=0.6.0 in /usr/local/lib/python3.11/dist-packages (from pydantic!=1.8,!=1.8.1,<3.0.0,>=1.7.4->spacy~=3.0->textacy) (0.7.0)\n",
            "Requirement already satisfied: pydantic-core==2.33.2 in /usr/local/lib/python3.11/dist-packages (from pydantic!=1.8,!=1.8.1,<3.0.0,>=1.7.4->spacy~=3.0->textacy) (2.33.2)\n",
            "Requirement already satisfied: typing-extensions>=4.12.2 in /usr/local/lib/python3.11/dist-packages (from pydantic!=1.8,!=1.8.1,<3.0.0,>=1.7.4->spacy~=3.0->textacy) (4.14.0)\n",
            "Requirement already satisfied: typing-inspection>=0.4.0 in /usr/local/lib/python3.11/dist-packages (from pydantic!=1.8,!=1.8.1,<3.0.0,>=1.7.4->spacy~=3.0->textacy) (0.4.1)\n",
            "Requirement already satisfied: blis<1.4.0,>=1.3.0 in /usr/local/lib/python3.11/dist-packages (from thinc<8.4.0,>=8.3.4->spacy~=3.0->textacy) (1.3.0)\n",
            "Requirement already satisfied: confection<1.0.0,>=0.0.1 in /usr/local/lib/python3.11/dist-packages (from thinc<8.4.0,>=8.3.4->spacy~=3.0->textacy) (0.1.5)\n",
            "Requirement already satisfied: click>=8.0.0 in /usr/local/lib/python3.11/dist-packages (from typer<1.0.0,>=0.3.0->spacy~=3.0->textacy) (8.2.1)\n",
            "Requirement already satisfied: shellingham>=1.3.0 in /usr/local/lib/python3.11/dist-packages (from typer<1.0.0,>=0.3.0->spacy~=3.0->textacy) (1.5.4)\n",
            "Requirement already satisfied: rich>=10.11.0 in /usr/local/lib/python3.11/dist-packages (from typer<1.0.0,>=0.3.0->spacy~=3.0->textacy) (13.9.4)\n",
            "Requirement already satisfied: cloudpathlib<1.0.0,>=0.7.0 in /usr/local/lib/python3.11/dist-packages (from weasel<0.5.0,>=0.1.0->spacy~=3.0->textacy) (0.21.1)\n",
            "Requirement already satisfied: smart-open<8.0.0,>=5.2.1 in /usr/local/lib/python3.11/dist-packages (from weasel<0.5.0,>=0.1.0->spacy~=3.0->textacy) (7.3.0)\n",
            "Requirement already satisfied: MarkupSafe>=2.0 in /usr/local/lib/python3.11/dist-packages (from jinja2->spacy~=3.0->textacy) (3.0.2)\n",
            "Requirement already satisfied: marisa-trie>=1.1.0 in /usr/local/lib/python3.11/dist-packages (from language-data>=1.2->langcodes<4.0.0,>=3.2.0->spacy~=3.0->textacy) (1.2.1)\n",
            "Requirement already satisfied: markdown-it-py>=2.2.0 in /usr/local/lib/python3.11/dist-packages (from rich>=10.11.0->typer<1.0.0,>=0.3.0->spacy~=3.0->textacy) (3.0.0)\n",
            "Requirement already satisfied: pygments<3.0.0,>=2.13.0 in /usr/local/lib/python3.11/dist-packages (from rich>=10.11.0->typer<1.0.0,>=0.3.0->spacy~=3.0->textacy) (2.19.2)\n",
            "Requirement already satisfied: wrapt in /usr/local/lib/python3.11/dist-packages (from smart-open<8.0.0,>=5.2.1->weasel<0.5.0,>=0.1.0->spacy~=3.0->textacy) (1.17.2)\n",
            "Requirement already satisfied: mdurl~=0.1 in /usr/local/lib/python3.11/dist-packages (from markdown-it-py>=2.2.0->rich>=10.11.0->typer<1.0.0,>=0.3.0->spacy~=3.0->textacy) (0.1.2)\n",
            "Downloading textacy-0.13.0-py3-none-any.whl (210 kB)\n",
            "\u001b[2K   \u001b[90m━━━━━━━━━━━━━━━━━━━━━━━━━━━━━━━━━━━━━━━━\u001b[0m \u001b[32m210.7/210.7 kB\u001b[0m \u001b[31m3.9 MB/s\u001b[0m eta \u001b[36m0:00:00\u001b[0m\n",
            "\u001b[?25hDownloading cytoolz-1.0.1-cp311-cp311-manylinux_2_17_x86_64.manylinux2014_x86_64.whl (2.1 MB)\n",
            "\u001b[2K   \u001b[90m━━━━━━━━━━━━━━━━━━━━━━━━━━━━━━━━━━━━━━━━\u001b[0m \u001b[32m2.1/2.1 MB\u001b[0m \u001b[31m33.4 MB/s\u001b[0m eta \u001b[36m0:00:00\u001b[0m\n",
            "\u001b[?25hDownloading floret-0.10.5-cp311-cp311-manylinux_2_17_x86_64.manylinux2014_x86_64.whl (321 kB)\n",
            "\u001b[2K   \u001b[90m━━━━━━━━━━━━━━━━━━━━━━━━━━━━━━━━━━━━━━━━\u001b[0m \u001b[32m321.6/321.6 kB\u001b[0m \u001b[31m26.0 MB/s\u001b[0m eta \u001b[36m0:00:00\u001b[0m\n",
            "\u001b[?25hDownloading jellyfish-1.2.0-cp311-cp311-manylinux_2_17_x86_64.manylinux2014_x86_64.whl (356 kB)\n",
            "\u001b[2K   \u001b[90m━━━━━━━━━━━━━━━━━━━━━━━━━━━━━━━━━━━━━━━━\u001b[0m \u001b[32m356.9/356.9 kB\u001b[0m \u001b[31m29.0 MB/s\u001b[0m eta \u001b[36m0:00:00\u001b[0m\n",
            "\u001b[?25hDownloading pyphen-0.17.2-py3-none-any.whl (2.1 MB)\n",
            "\u001b[2K   \u001b[90m━━━━━━━━━━━━━━━━━━━━━━━━━━━━━━━━━━━━━━━━\u001b[0m \u001b[32m2.1/2.1 MB\u001b[0m \u001b[31m68.4 MB/s\u001b[0m eta \u001b[36m0:00:00\u001b[0m\n",
            "\u001b[?25hInstalling collected packages: pyphen, jellyfish, floret, cytoolz, textacy\n",
            "Successfully installed cytoolz-1.0.1 floret-0.10.5 jellyfish-1.2.0 pyphen-0.17.2 textacy-0.13.0\n"
          ]
        }
      ]
    },
    {
      "cell_type": "code",
      "source": [
        "import textacy\n",
        "\n",
        "about_talk_text = (\n",
        "    \"The talk will introduce reader about use\"\n",
        "    \" cases of Natural Language Processing in\"\n",
        "    \" Fintech, making use of\"\n",
        "    \" interesting examples along the way.\"\n",
        ")\n",
        "\n",
        "patterns = [{\"POS\": \"AUX\"}, {\"POS\": \"VERB\"}]\n",
        "about_talk_doc = textacy.make_spacy_doc(\n",
        "    about_talk_text, lang=\"en_core_web_sm\"\n",
        ")\n",
        "\n",
        "verb_phrases = textacy.extract.token_matches(\n",
        "    about_talk_doc, patterns=patterns\n",
        ")\n",
        "\n",
        "for chunk in verb_phrases:\n",
        "  print(chunk.text)\n",
        "\n",
        "for chunk in about_talk_doc.noun_chunks:\n",
        "  print(chunk)"
      ],
      "metadata": {
        "colab": {
          "base_uri": "https://localhost:8080/"
        },
        "id": "7YBSusoFnuds",
        "outputId": "68ad121d-ffdf-445c-e4be-efd724ba3b46"
      },
      "execution_count": 48,
      "outputs": [
        {
          "output_type": "stream",
          "name": "stdout",
          "text": [
            "will introduce\n",
            "The talk\n",
            "reader\n",
            "use\n",
            "cases\n",
            "Natural Language Processing\n",
            "Fintech\n",
            "use\n",
            "interesting examples\n",
            "the way\n"
          ]
        }
      ]
    },
    {
      "cell_type": "markdown",
      "source": [
        "###命名实体识别"
      ],
      "metadata": {
        "id": "a2I5LHyLsMnA"
      }
    },
    {
      "cell_type": "code",
      "source": [
        "import spacy\n",
        "nlp = spacy.load(\"en_core_web_sm\")\n",
        "\n",
        "piano_class_text = (\n",
        "    \"Great Piano Academy is situated\"\n",
        "    \" in Mayfair or the City of London and has\"\n",
        "    \" world-class piano instructors.\"\n",
        ")\n",
        "\n",
        "piano_class_doc = nlp(piano_class_text)\n",
        "\n",
        "for ent in piano_class_doc.ents:\n",
        "  print(\n",
        "      f\"\"\"\n",
        "      {ent.text = }\n",
        "      {ent.start_char = }\n",
        "      {ent.end_char = }\n",
        "      {ent.label_ = }\n",
        "      spacy.explain('{ent.label_}') = {spacy.explain(ent.label_)}\n",
        "      \"\"\"\n",
        "  )"
      ],
      "metadata": {
        "colab": {
          "base_uri": "https://localhost:8080/"
        },
        "id": "9lcfOzVfrpOS",
        "outputId": "ff070a26-4a95-4254-dff2-c3f6b40688bf"
      },
      "execution_count": 49,
      "outputs": [
        {
          "output_type": "stream",
          "name": "stdout",
          "text": [
            "\n",
            "      ent.text = 'Great Piano Academy'\n",
            "      ent.start_char = 0\n",
            "      ent.end_char = 19\n",
            "      ent.label_ = 'ORG'\n",
            "      spacy.explain('ORG') = Companies, agencies, institutions, etc.\n",
            "      \n",
            "\n",
            "      ent.text = 'Mayfair'\n",
            "      ent.start_char = 35\n",
            "      ent.end_char = 42\n",
            "      ent.label_ = 'FAC'\n",
            "      spacy.explain('FAC') = Buildings, airports, highways, bridges, etc.\n",
            "      \n",
            "\n",
            "      ent.text = 'the City of London'\n",
            "      ent.start_char = 46\n",
            "      ent.end_char = 64\n",
            "      ent.label_ = 'GPE'\n",
            "      spacy.explain('GPE') = Countries, cities, states\n",
            "      \n"
          ]
        }
      ]
    },
    {
      "cell_type": "code",
      "source": [
        "displacy.serve(piano_class_doc, style=\"ent\")"
      ],
      "metadata": {
        "colab": {
          "base_uri": "https://localhost:8080/",
          "height": 338
        },
        "id": "efG_lBKFtNci",
        "outputId": "3d435e33-51a4-40c1-ea60-b39edffc4c12"
      },
      "execution_count": 50,
      "outputs": [
        {
          "output_type": "stream",
          "name": "stderr",
          "text": [
            "/usr/local/lib/python3.11/dist-packages/spacy/displacy/__init__.py:106: UserWarning: [W011] It looks like you're calling displacy.serve from within a Jupyter notebook or a similar environment. This likely means you're already running a local web server, so there's no need to make displaCy start another one. Instead, you should be able to replace displacy.serve with displacy.render to show the visualization.\n",
            "  warnings.warn(Warnings.W011)\n"
          ]
        },
        {
          "output_type": "display_data",
          "data": {
            "text/plain": [
              "<IPython.core.display.HTML object>"
            ],
            "text/html": [
              "<span class=\"tex2jax_ignore\"><!DOCTYPE html>\n",
              "<html lang=\"en\">\n",
              "    <head>\n",
              "        <title>displaCy</title>\n",
              "    </head>\n",
              "\n",
              "    <body style=\"font-size: 16px; font-family: -apple-system, BlinkMacSystemFont, 'Segoe UI', Helvetica, Arial, sans-serif, 'Apple Color Emoji', 'Segoe UI Emoji', 'Segoe UI Symbol'; padding: 4rem 2rem; direction: ltr\">\n",
              "<figure style=\"margin-bottom: 6rem\">\n",
              "<div class=\"entities\" style=\"line-height: 2.5; direction: ltr\">\n",
              "<mark class=\"entity\" style=\"background: #7aecec; padding: 0.45em 0.6em; margin: 0 0.25em; line-height: 1; border-radius: 0.35em;\">\n",
              "    Great Piano Academy\n",
              "    <span style=\"font-size: 0.8em; font-weight: bold; line-height: 1; border-radius: 0.35em; vertical-align: middle; margin-left: 0.5rem\">ORG</span>\n",
              "</mark>\n",
              " is situated in \n",
              "<mark class=\"entity\" style=\"background: #9cc9cc; padding: 0.45em 0.6em; margin: 0 0.25em; line-height: 1; border-radius: 0.35em;\">\n",
              "    Mayfair\n",
              "    <span style=\"font-size: 0.8em; font-weight: bold; line-height: 1; border-radius: 0.35em; vertical-align: middle; margin-left: 0.5rem\">FAC</span>\n",
              "</mark>\n",
              " or \n",
              "<mark class=\"entity\" style=\"background: #feca74; padding: 0.45em 0.6em; margin: 0 0.25em; line-height: 1; border-radius: 0.35em;\">\n",
              "    the City of London\n",
              "    <span style=\"font-size: 0.8em; font-weight: bold; line-height: 1; border-radius: 0.35em; vertical-align: middle; margin-left: 0.5rem\">GPE</span>\n",
              "</mark>\n",
              " and has world-class piano instructors.</div>\n",
              "</figure>\n",
              "</body>\n",
              "</html></span>"
            ]
          },
          "metadata": {}
        },
        {
          "output_type": "stream",
          "name": "stdout",
          "text": [
            "\n",
            "Using the 'ent' visualizer\n",
            "Serving on http://0.0.0.0:5000 ...\n",
            "\n",
            "Shutting down server on port 5000.\n"
          ]
        }
      ]
    },
    {
      "cell_type": "code",
      "source": [
        "survey_text = (\n",
        "    \"Out of 5 people surveyed, James Robert,\"\n",
        "    \" Julie Fuller and Benjamin Brooks like\"\n",
        "    \" apples. Kelly Cox and Matthew Evans\"\n",
        "    \" like oranges.\"\n",
        ")\n",
        "\n",
        "def replace_person_names(token):\n",
        "    if token.ent_iob != 0 and token.ent_type_ == \"PERSON\":\n",
        "        return \"[REDACTED] \"\n",
        "    return token.text_with_ws\n",
        "\n",
        "def redact_names(nlp_doc):\n",
        "    with nlp_doc.retokenize() as retokenizer:\n",
        "        for ent in nlp_doc.ents:\n",
        "            retokenizer.merge(ent)\n",
        "    tokens = map(replace_person_names, nlp_doc)\n",
        "    return \"\".join(tokens)\n",
        "\n",
        "survey_doc = nlp(survey_text)\n",
        "print(redact_names(survey_doc))"
      ],
      "metadata": {
        "colab": {
          "base_uri": "https://localhost:8080/"
        },
        "id": "6wb-etTvtX0J",
        "outputId": "29ab0bc2-053e-4656-af60-8fc2c0612c7d"
      },
      "execution_count": 52,
      "outputs": [
        {
          "output_type": "stream",
          "name": "stdout",
          "text": [
            "Out of 5 people surveyed, [REDACTED] , [REDACTED] and [REDACTED] like apples. [REDACTED] and [REDACTED] like oranges.\n"
          ]
        }
      ]
    },
    {
      "cell_type": "code",
      "source": [],
      "metadata": {
        "id": "mzQ4vqfyt3sS"
      },
      "execution_count": null,
      "outputs": []
    },
    {
      "cell_type": "code",
      "source": [],
      "metadata": {
        "id": "nIAfPNOZtmWS"
      },
      "execution_count": null,
      "outputs": []
    }
  ]
}