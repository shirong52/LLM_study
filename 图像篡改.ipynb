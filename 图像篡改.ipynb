{
  "nbformat": 4,
  "nbformat_minor": 0,
  "metadata": {
    "colab": {
      "provenance": [],
      "authorship_tag": "ABX9TyPunwiZriwbXhbAUadm1FLV",
      "include_colab_link": true
    },
    "kernelspec": {
      "name": "python3",
      "display_name": "Python 3"
    },
    "language_info": {
      "name": "python"
    }
  },
  "cells": [
    {
      "cell_type": "markdown",
      "metadata": {
        "id": "view-in-github",
        "colab_type": "text"
      },
      "source": [
        "<a href=\"https://colab.research.google.com/github/shirong52/LLM_study/blob/main/%E5%9B%BE%E5%83%8F%E7%AF%A1%E6%94%B9.ipynb\" target=\"_parent\"><img src=\"https://colab.research.google.com/assets/colab-badge.svg\" alt=\"Open In Colab\"/></a>"
      ]
    },
    {
      "cell_type": "code",
      "execution_count": 2,
      "metadata": {
        "colab": {
          "base_uri": "https://localhost:8080/"
        },
        "id": "8MFq2DyhqwJZ",
        "outputId": "d295842a-3180-462b-9720-77b551504851"
      },
      "outputs": [
        {
          "output_type": "stream",
          "name": "stdout",
          "text": [
            "检测到编辑软件: ç¾å¾ç§ç§-iOS-11.21.0\n"
          ]
        }
      ],
      "source": [
        "from PIL import Image\n",
        "from PIL.ExifTags import TAGS\n",
        "\n",
        "def check_metadata_pure(image_path):\n",
        "    img = Image.open(image_path)\n",
        "    exif_data = img.getexif()\n",
        "    if not exif_data:\n",
        "        print(\"❌ 无 EXIF 信息，可能被清理\")\n",
        "        return\n",
        "\n",
        "    for tag, value in exif_data.items():\n",
        "        tag_name = TAGS.get(tag, tag)\n",
        "        if tag_name == 'Software':\n",
        "            print(f\"检测到编辑软件: {value}\")\n",
        "            if 'Photoshop' in str(value):\n",
        "                print(\"⚠️ 图片可能被 Photoshop 编辑过！\")\n",
        "            return\n",
        "    print(\"✅ 未发现明显编辑痕迹\")\n",
        "\n",
        "check_metadata_pure(\"/content/0.jpg\")\n"
      ]
    },
    {
      "cell_type": "code",
      "source": [
        "check_metadata_pure(\"/content/1.jpg\")"
      ],
      "metadata": {
        "colab": {
          "base_uri": "https://localhost:8080/"
        },
        "id": "2IdVoGRwq2Aw",
        "outputId": "7bab60fd-a8cf-4d2d-cb8f-8a901f28e743"
      },
      "execution_count": 4,
      "outputs": [
        {
          "output_type": "stream",
          "name": "stdout",
          "text": [
            "检测到编辑软件: Android PD2352C_A_15.1.11.2.W10\n"
          ]
        }
      ]
    },
    {
      "cell_type": "code",
      "source": [
        "check_metadata_pure(\"/content/8.jpg\")"
      ],
      "metadata": {
        "colab": {
          "base_uri": "https://localhost:8080/"
        },
        "id": "_VeORWzIzj1z",
        "outputId": "0ca92c6b-484b-48d1-b275-18c6c726bc11"
      },
      "execution_count": 4,
      "outputs": [
        {
          "output_type": "stream",
          "name": "stdout",
          "text": [
            "❌ 无 EXIF 信息，可能被清理\n"
          ]
        }
      ]
    },
    {
      "cell_type": "code",
      "source": [
        "check_metadata_pure(\"/content/9.jpg\")"
      ],
      "metadata": {
        "colab": {
          "base_uri": "https://localhost:8080/"
        },
        "id": "Son-hh1QrVqd",
        "outputId": "089e474b-fee9-4850-bf1c-d95f89c5ca70"
      },
      "execution_count": 5,
      "outputs": [
        {
          "output_type": "stream",
          "name": "stdout",
          "text": [
            "✅ 未发现明显编辑痕迹\n"
          ]
        }
      ]
    },
    {
      "cell_type": "code",
      "source": [
        "check_metadata_pure(\"/content/5.png\")"
      ],
      "metadata": {
        "colab": {
          "base_uri": "https://localhost:8080/"
        },
        "id": "t-ErRtMQxnW3",
        "outputId": "10eadef1-d905-4740-8cf5-f8b4a158e3cf"
      },
      "execution_count": 9,
      "outputs": [
        {
          "output_type": "stream",
          "name": "stdout",
          "text": [
            "❌ 无 EXIF 信息，可能被清理\n"
          ]
        }
      ]
    },
    {
      "cell_type": "code",
      "source": [
        "check_metadata_pure(\"/content/7.jpg\")"
      ],
      "metadata": {
        "colab": {
          "base_uri": "https://localhost:8080/"
        },
        "id": "7MeQJ3Ou8eaG",
        "outputId": "a74a3284-d6c0-4e4e-d418-88d5f44fe2d9"
      },
      "execution_count": 3,
      "outputs": [
        {
          "output_type": "stream",
          "name": "stdout",
          "text": [
            "❌ 无 EXIF 信息，可能被清理\n"
          ]
        }
      ]
    },
    {
      "cell_type": "code",
      "source": [
        "from PIL import Image\n",
        "from PIL.ExifTags import TAGS\n",
        "import re\n",
        "\n",
        "def check_metadata_smart(image_path):\n",
        "    try:\n",
        "        img = Image.open(image_path)\n",
        "        exif_data = img.getexif()\n",
        "    except Exception as e:\n",
        "        print(f\"❌ 无法读取图片：{e}\")\n",
        "        return\n",
        "\n",
        "    if not exif_data or len(exif_data) == 0:\n",
        "        print(\"❌ 无 EXIF 信息，可能为截图、社交平台转码或已清理元数据。\")\n",
        "        return\n",
        "\n",
        "    # 提取 Software 字段\n",
        "    software_value = None\n",
        "    for tag, value in exif_data.items():\n",
        "        tag_name = TAGS.get(tag, tag)\n",
        "        if tag_name == 'Software':\n",
        "            software_value = str(value)\n",
        "            break\n",
        "\n",
        "    if not software_value:\n",
        "        print(\"ℹ️ 未检测到 'Software' 字段，无法判断编辑来源。\")\n",
        "        return\n",
        "\n",
        "    print(f\"检测到编辑软件/系统标识: {software_value}\")\n",
        "\n",
        "    software_lower = software_value.lower()\n",
        "\n",
        "    # ==== 1️⃣ 明确人工编辑类软件 ====\n",
        "    editors = ['photoshop', 'meitu', '美图', 'snapseed', 'picsart', 'lightroom', 'pixlr', '醒图']\n",
        "    if any(e in software_lower for e in editors):\n",
        "        print(\"⚠️ 图片可能经过人工编辑或修图应用处理。\")\n",
        "        return\n",
        "\n",
        "    # ==== 2️⃣ 系统压缩或社交应用重编码 ====\n",
        "    if re.search(r'android|ios|huawei|oppo|vivo|miui|mms|wechat|qq|instagram|facebook', software_lower):\n",
        "        if re.search(r'mms|彩信|pd\\d{4}|_a_', software_lower):\n",
        "            print(\"📨 检测到 Android 系统标识，可能是短信/彩信传输过程中的系统压缩。\")\n",
        "            print(\"✅ 这通常属于系统性重新编码，而非人工篡改。\")\n",
        "        elif 'wechat' in software_lower or 'wx' in software_lower:\n",
        "            print(\"💬 检测到微信/社交平台压缩痕迹，可能是转发或自动压缩。\")\n",
        "            print(\"✅ 内容未被人工编辑，但画质可能降低。\")\n",
        "        else:\n",
        "            print(\"⚙️ 检测到手机系统重新生成图像（可能是系统保存或分享过程）。\")\n",
        "            print(\"✅ 未发现明显人工编辑痕迹。\")\n",
        "        return\n",
        "\n",
        "    # ==== 3️⃣ 未知软件但非空 ====\n",
        "    print(\"✅ 未发现明显编辑痕迹（可能是原生拍摄或系统导出）。\")\n",
        "\n",
        "\n",
        "# 示例调用\n",
        "check_metadata_smart(\"/content/3.jpg\")\n"
      ],
      "metadata": {
        "colab": {
          "base_uri": "https://localhost:8080/"
        },
        "id": "B_tGaXYF2dAN",
        "outputId": "ca7f1a71-a426-4f30-adc8-ab44877d57ca"
      },
      "execution_count": 14,
      "outputs": [
        {
          "output_type": "stream",
          "name": "stdout",
          "text": [
            "ℹ️ 未检测到 'Software' 字段，无法判断编辑来源。\n"
          ]
        }
      ]
    },
    {
      "cell_type": "code",
      "source": [],
      "metadata": {
        "id": "feOtHXkM7aZ_"
      },
      "execution_count": null,
      "outputs": []
    }
  ]
}